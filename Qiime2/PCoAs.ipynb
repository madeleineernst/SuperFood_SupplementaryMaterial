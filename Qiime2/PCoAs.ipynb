{
 "cells": [
  {
   "cell_type": "markdown",
   "metadata": {},
   "source": [
    "## Perfrom Principal Coordinates Analysis within Qiime2"
   ]
  },
  {
   "cell_type": "markdown",
   "metadata": {},
   "source": [
    "load libraries"
   ]
  },
  {
   "cell_type": "code",
   "execution_count": 1,
   "metadata": {},
   "outputs": [],
   "source": [
    "import pandas as pd\n",
    "import os"
   ]
  },
  {
   "cell_type": "code",
   "execution_count": 2,
   "metadata": {},
   "outputs": [],
   "source": [
    "bt = pd.read_csv('METABOLOMICS-SNETS-V2-04e0e73c-download_cluster_buckettable-main.tsv', sep = '\\t')"
   ]
  },
  {
   "cell_type": "code",
   "execution_count": 3,
   "metadata": {},
   "outputs": [
    {
     "data": {
      "text/html": [
       "<div>\n",
       "<style scoped>\n",
       "    .dataframe tbody tr th:only-of-type {\n",
       "        vertical-align: middle;\n",
       "    }\n",
       "\n",
       "    .dataframe tbody tr th {\n",
       "        vertical-align: top;\n",
       "    }\n",
       "\n",
       "    .dataframe thead th {\n",
       "        text-align: right;\n",
       "    }\n",
       "</style>\n",
       "<table border=\"1\" class=\"dataframe\">\n",
       "  <thead>\n",
       "    <tr style=\"text-align: right;\">\n",
       "      <th></th>\n",
       "      <th>#OTU ID</th>\n",
       "      <th>G78918_rerun_RA4_01_17526</th>\n",
       "      <th>G75202_1x_rerun_BG1_01_17374</th>\n",
       "      <th>G78835_1x_RC12_01_18824</th>\n",
       "      <th>G79246_1x_RD10_01_18842</th>\n",
       "      <th>G75250_5x_RA7_01_19465</th>\n",
       "      <th>G86821_10x_RF3_01_23198</th>\n",
       "      <th>78816_5x_RH5_01_17511</th>\n",
       "      <th>G79289_1x_RB7_01_20256</th>\n",
       "      <th>G75209_1x_BH2_01_17346</th>\n",
       "      <th>...</th>\n",
       "      <th>G90221_1x_BD7_01_26585</th>\n",
       "      <th>G78927_rerun_5ul_RG2_01_17724</th>\n",
       "      <th>G83416_5x_RH6_01_21514</th>\n",
       "      <th>G83208_5x_5ul_RB8_01_21527</th>\n",
       "      <th>G83399_5x_rerun_2ul_RC7_01_21525</th>\n",
       "      <th>G83226_1x_RC12_01_20300</th>\n",
       "      <th>G78913_RF3_01_17605</th>\n",
       "      <th>G79301_1x_RA2_01_18786</th>\n",
       "      <th>G87559_1x_RA9_01_26233</th>\n",
       "      <th>G83314_5x_RA10_01_21409</th>\n",
       "    </tr>\n",
       "  </thead>\n",
       "  <tbody>\n",
       "    <tr>\n",
       "      <th>0</th>\n",
       "      <td>11740</td>\n",
       "      <td>0.0</td>\n",
       "      <td>0.0</td>\n",
       "      <td>0.0</td>\n",
       "      <td>0.0</td>\n",
       "      <td>0.0</td>\n",
       "      <td>0.0</td>\n",
       "      <td>0.0</td>\n",
       "      <td>0.0</td>\n",
       "      <td>0.0</td>\n",
       "      <td>...</td>\n",
       "      <td>0.0</td>\n",
       "      <td>0.0</td>\n",
       "      <td>0.0</td>\n",
       "      <td>0.0</td>\n",
       "      <td>0.0</td>\n",
       "      <td>0.0</td>\n",
       "      <td>0.0</td>\n",
       "      <td>0.0</td>\n",
       "      <td>0.0</td>\n",
       "      <td>0.0</td>\n",
       "    </tr>\n",
       "    <tr>\n",
       "      <th>1</th>\n",
       "      <td>39617</td>\n",
       "      <td>0.0</td>\n",
       "      <td>0.0</td>\n",
       "      <td>0.0</td>\n",
       "      <td>0.0</td>\n",
       "      <td>0.0</td>\n",
       "      <td>0.0</td>\n",
       "      <td>0.0</td>\n",
       "      <td>0.0</td>\n",
       "      <td>0.0</td>\n",
       "      <td>...</td>\n",
       "      <td>0.0</td>\n",
       "      <td>0.0</td>\n",
       "      <td>0.0</td>\n",
       "      <td>0.0</td>\n",
       "      <td>0.0</td>\n",
       "      <td>0.0</td>\n",
       "      <td>0.0</td>\n",
       "      <td>0.0</td>\n",
       "      <td>0.0</td>\n",
       "      <td>0.0</td>\n",
       "    </tr>\n",
       "    <tr>\n",
       "      <th>2</th>\n",
       "      <td>34992</td>\n",
       "      <td>0.0</td>\n",
       "      <td>0.0</td>\n",
       "      <td>0.0</td>\n",
       "      <td>0.0</td>\n",
       "      <td>0.0</td>\n",
       "      <td>0.0</td>\n",
       "      <td>0.0</td>\n",
       "      <td>0.0</td>\n",
       "      <td>0.0</td>\n",
       "      <td>...</td>\n",
       "      <td>0.0</td>\n",
       "      <td>0.0</td>\n",
       "      <td>0.0</td>\n",
       "      <td>0.0</td>\n",
       "      <td>0.0</td>\n",
       "      <td>0.0</td>\n",
       "      <td>0.0</td>\n",
       "      <td>0.0</td>\n",
       "      <td>0.0</td>\n",
       "      <td>0.0</td>\n",
       "    </tr>\n",
       "    <tr>\n",
       "      <th>3</th>\n",
       "      <td>48356</td>\n",
       "      <td>0.0</td>\n",
       "      <td>0.0</td>\n",
       "      <td>0.0</td>\n",
       "      <td>0.0</td>\n",
       "      <td>0.0</td>\n",
       "      <td>0.0</td>\n",
       "      <td>0.0</td>\n",
       "      <td>0.0</td>\n",
       "      <td>0.0</td>\n",
       "      <td>...</td>\n",
       "      <td>0.0</td>\n",
       "      <td>0.0</td>\n",
       "      <td>0.0</td>\n",
       "      <td>0.0</td>\n",
       "      <td>0.0</td>\n",
       "      <td>0.0</td>\n",
       "      <td>0.0</td>\n",
       "      <td>0.0</td>\n",
       "      <td>0.0</td>\n",
       "      <td>0.0</td>\n",
       "    </tr>\n",
       "    <tr>\n",
       "      <th>4</th>\n",
       "      <td>21500</td>\n",
       "      <td>0.0</td>\n",
       "      <td>0.0</td>\n",
       "      <td>0.0</td>\n",
       "      <td>0.0</td>\n",
       "      <td>0.0</td>\n",
       "      <td>0.0</td>\n",
       "      <td>0.0</td>\n",
       "      <td>0.0</td>\n",
       "      <td>0.0</td>\n",
       "      <td>...</td>\n",
       "      <td>0.0</td>\n",
       "      <td>0.0</td>\n",
       "      <td>0.0</td>\n",
       "      <td>0.0</td>\n",
       "      <td>0.0</td>\n",
       "      <td>0.0</td>\n",
       "      <td>0.0</td>\n",
       "      <td>0.0</td>\n",
       "      <td>0.0</td>\n",
       "      <td>0.0</td>\n",
       "    </tr>\n",
       "  </tbody>\n",
       "</table>\n",
       "<p>5 rows × 568 columns</p>\n",
       "</div>"
      ],
      "text/plain": [
       "   #OTU ID  G78918_rerun_RA4_01_17526  G75202_1x_rerun_BG1_01_17374  \\\n",
       "0    11740                        0.0                           0.0   \n",
       "1    39617                        0.0                           0.0   \n",
       "2    34992                        0.0                           0.0   \n",
       "3    48356                        0.0                           0.0   \n",
       "4    21500                        0.0                           0.0   \n",
       "\n",
       "   G78835_1x_RC12_01_18824  G79246_1x_RD10_01_18842  G75250_5x_RA7_01_19465  \\\n",
       "0                      0.0                      0.0                     0.0   \n",
       "1                      0.0                      0.0                     0.0   \n",
       "2                      0.0                      0.0                     0.0   \n",
       "3                      0.0                      0.0                     0.0   \n",
       "4                      0.0                      0.0                     0.0   \n",
       "\n",
       "   G86821_10x_RF3_01_23198  78816_5x_RH5_01_17511  G79289_1x_RB7_01_20256  \\\n",
       "0                      0.0                    0.0                     0.0   \n",
       "1                      0.0                    0.0                     0.0   \n",
       "2                      0.0                    0.0                     0.0   \n",
       "3                      0.0                    0.0                     0.0   \n",
       "4                      0.0                    0.0                     0.0   \n",
       "\n",
       "   G75209_1x_BH2_01_17346  ...  G90221_1x_BD7_01_26585  \\\n",
       "0                     0.0  ...                     0.0   \n",
       "1                     0.0  ...                     0.0   \n",
       "2                     0.0  ...                     0.0   \n",
       "3                     0.0  ...                     0.0   \n",
       "4                     0.0  ...                     0.0   \n",
       "\n",
       "   G78927_rerun_5ul_RG2_01_17724  G83416_5x_RH6_01_21514  \\\n",
       "0                            0.0                     0.0   \n",
       "1                            0.0                     0.0   \n",
       "2                            0.0                     0.0   \n",
       "3                            0.0                     0.0   \n",
       "4                            0.0                     0.0   \n",
       "\n",
       "   G83208_5x_5ul_RB8_01_21527  G83399_5x_rerun_2ul_RC7_01_21525  \\\n",
       "0                         0.0                               0.0   \n",
       "1                         0.0                               0.0   \n",
       "2                         0.0                               0.0   \n",
       "3                         0.0                               0.0   \n",
       "4                         0.0                               0.0   \n",
       "\n",
       "   G83226_1x_RC12_01_20300  G78913_RF3_01_17605  G79301_1x_RA2_01_18786  \\\n",
       "0                      0.0                  0.0                     0.0   \n",
       "1                      0.0                  0.0                     0.0   \n",
       "2                      0.0                  0.0                     0.0   \n",
       "3                      0.0                  0.0                     0.0   \n",
       "4                      0.0                  0.0                     0.0   \n",
       "\n",
       "   G87559_1x_RA9_01_26233  G83314_5x_RA10_01_21409  \n",
       "0                     0.0                      0.0  \n",
       "1                     0.0                      0.0  \n",
       "2                     0.0                      0.0  \n",
       "3                     0.0                      0.0  \n",
       "4                     0.0                      0.0  \n",
       "\n",
       "[5 rows x 568 columns]"
      ]
     },
     "execution_count": 3,
     "metadata": {},
     "output_type": "execute_result"
    }
   ],
   "source": [
    "bt.head()"
   ]
  },
  {
   "cell_type": "code",
   "execution_count": 4,
   "metadata": {},
   "outputs": [],
   "source": [
    "md = pd.read_csv('METABOLOMICS-SNETS-V2-04e0e73c-download_metadata-main.txt', sep = '\\t')"
   ]
  },
  {
   "cell_type": "code",
   "execution_count": 5,
   "metadata": {},
   "outputs": [
    {
     "data": {
      "text/html": [
       "<div>\n",
       "<style scoped>\n",
       "    .dataframe tbody tr th:only-of-type {\n",
       "        vertical-align: middle;\n",
       "    }\n",
       "\n",
       "    .dataframe tbody tr th {\n",
       "        vertical-align: top;\n",
       "    }\n",
       "\n",
       "    .dataframe thead th {\n",
       "        text-align: right;\n",
       "    }\n",
       "</style>\n",
       "<table border=\"1\" class=\"dataframe\">\n",
       "  <thead>\n",
       "    <tr style=\"text-align: right;\">\n",
       "      <th></th>\n",
       "      <th>#SampleID</th>\n",
       "      <th>BarcodeSequence</th>\n",
       "      <th>LinkerPrimerSequence</th>\n",
       "      <th>ATTRIBUTE_sample_type_group5</th>\n",
       "      <th>ATTRIBUTE_superfood</th>\n",
       "      <th>ATTRIBUTE_sample_type_group4</th>\n",
       "      <th>organic</th>\n",
       "      <th>ATTRIBUTE_family_genus</th>\n",
       "      <th>gluten_free</th>\n",
       "      <th>filename</th>\n",
       "      <th>packaging</th>\n",
       "      <th>presample_ethanol_weight</th>\n",
       "      <th>botanical_genus</th>\n",
       "      <th>ATTRIBUTE_botanical_anatomy</th>\n",
       "      <th>final_ethanol_weight</th>\n",
       "      <th>gmo</th>\n",
       "      <th>sample_in_tube_ethanol_weight</th>\n",
       "      <th>sample_type_group6</th>\n",
       "      <th>ATTRIBUTE_GNPSDefaultGroup</th>\n",
       "    </tr>\n",
       "  </thead>\n",
       "  <tbody>\n",
       "    <tr>\n",
       "      <th>0</th>\n",
       "      <td>72475_1x_BC9_01_17418</td>\n",
       "      <td>GATACA</td>\n",
       "      <td>GATACA</td>\n",
       "      <td>garlic</td>\n",
       "      <td>superfood</td>\n",
       "      <td>vegetable</td>\n",
       "      <td>yes</td>\n",
       "      <td>Amaryllidaceae</td>\n",
       "      <td>no</td>\n",
       "      <td>72475_1x_BC9_01_17418.mzXML</td>\n",
       "      <td>none</td>\n",
       "      <td>1.9269</td>\n",
       "      <td>allium</td>\n",
       "      <td>stem</td>\n",
       "      <td>2.0369</td>\n",
       "      <td>no</td>\n",
       "      <td>0.11</td>\n",
       "      <td>garlic</td>\n",
       "      <td>Not Mapped</td>\n",
       "    </tr>\n",
       "    <tr>\n",
       "      <th>1</th>\n",
       "      <td>72497_1x_BD7_01_17434</td>\n",
       "      <td>GATACA</td>\n",
       "      <td>GATACA</td>\n",
       "      <td>melon</td>\n",
       "      <td>non_superfood</td>\n",
       "      <td>pepo</td>\n",
       "      <td>no</td>\n",
       "      <td>Cucurbitaceae</td>\n",
       "      <td>yes</td>\n",
       "      <td>72497_1x_BD7_01_17434.mzXML</td>\n",
       "      <td>none</td>\n",
       "      <td>1.9243</td>\n",
       "      <td>Cucumis</td>\n",
       "      <td>fruit</td>\n",
       "      <td>2.1797</td>\n",
       "      <td>no</td>\n",
       "      <td>0.2554</td>\n",
       "      <td>galia</td>\n",
       "      <td>G1</td>\n",
       "    </tr>\n",
       "    <tr>\n",
       "      <th>2</th>\n",
       "      <td>72500_1x_BG3_01_17471</td>\n",
       "      <td>GATACA</td>\n",
       "      <td>GATACA</td>\n",
       "      <td>apple</td>\n",
       "      <td>non_superfood</td>\n",
       "      <td>pome</td>\n",
       "      <td>yes</td>\n",
       "      <td>Rosaceae</td>\n",
       "      <td>yes</td>\n",
       "      <td>72500_1x_BG3_01_17471.mzXML</td>\n",
       "      <td>glass</td>\n",
       "      <td>1.95</td>\n",
       "      <td>Malus</td>\n",
       "      <td>fruit</td>\n",
       "      <td>2.3257</td>\n",
       "      <td>no</td>\n",
       "      <td>0.3757</td>\n",
       "      <td>apple</td>\n",
       "      <td>G1</td>\n",
       "    </tr>\n",
       "    <tr>\n",
       "      <th>3</th>\n",
       "      <td>72504_1x_BH8_01_17502</td>\n",
       "      <td>GATACA</td>\n",
       "      <td>GATACA</td>\n",
       "      <td>fig</td>\n",
       "      <td>non_superfood</td>\n",
       "      <td>multifruit</td>\n",
       "      <td>yes</td>\n",
       "      <td>Moraceae</td>\n",
       "      <td>yes</td>\n",
       "      <td>72504_1x_BH8_01_17502.mzXML</td>\n",
       "      <td>plastic</td>\n",
       "      <td>1.9545</td>\n",
       "      <td>ficus</td>\n",
       "      <td>fruit</td>\n",
       "      <td>2.1733</td>\n",
       "      <td>no</td>\n",
       "      <td>0.2188</td>\n",
       "      <td>turkish fig</td>\n",
       "      <td>G1</td>\n",
       "    </tr>\n",
       "    <tr>\n",
       "      <th>4</th>\n",
       "      <td>72537_1x_BG5_01_17486</td>\n",
       "      <td>GATACA</td>\n",
       "      <td>GATACA</td>\n",
       "      <td>tomato</td>\n",
       "      <td>non_superfood</td>\n",
       "      <td>berry</td>\n",
       "      <td>yes</td>\n",
       "      <td>Solanaceae</td>\n",
       "      <td>no</td>\n",
       "      <td>72537_1x_BG5_01_17486.mzXML</td>\n",
       "      <td>plastic</td>\n",
       "      <td>1.9385</td>\n",
       "      <td>Solanum</td>\n",
       "      <td>fruit</td>\n",
       "      <td>2.1044</td>\n",
       "      <td>no</td>\n",
       "      <td>0.1659</td>\n",
       "      <td>orange cherry tomato</td>\n",
       "      <td>Not Mapped</td>\n",
       "    </tr>\n",
       "  </tbody>\n",
       "</table>\n",
       "</div>"
      ],
      "text/plain": [
       "               #SampleID BarcodeSequence LinkerPrimerSequence  \\\n",
       "0  72475_1x_BC9_01_17418          GATACA               GATACA   \n",
       "1  72497_1x_BD7_01_17434          GATACA               GATACA   \n",
       "2  72500_1x_BG3_01_17471          GATACA               GATACA   \n",
       "3  72504_1x_BH8_01_17502          GATACA               GATACA   \n",
       "4  72537_1x_BG5_01_17486          GATACA               GATACA   \n",
       "\n",
       "  ATTRIBUTE_sample_type_group5 ATTRIBUTE_superfood  \\\n",
       "0                       garlic           superfood   \n",
       "1                        melon       non_superfood   \n",
       "2                        apple       non_superfood   \n",
       "3                          fig       non_superfood   \n",
       "4                       tomato       non_superfood   \n",
       "\n",
       "  ATTRIBUTE_sample_type_group4 organic ATTRIBUTE_family_genus gluten_free  \\\n",
       "0                    vegetable     yes         Amaryllidaceae          no   \n",
       "1                         pepo      no          Cucurbitaceae         yes   \n",
       "2                         pome     yes               Rosaceae         yes   \n",
       "3                   multifruit     yes               Moraceae         yes   \n",
       "4                        berry     yes             Solanaceae          no   \n",
       "\n",
       "                      filename packaging presample_ethanol_weight  \\\n",
       "0  72475_1x_BC9_01_17418.mzXML      none                   1.9269   \n",
       "1  72497_1x_BD7_01_17434.mzXML      none                   1.9243   \n",
       "2  72500_1x_BG3_01_17471.mzXML     glass                     1.95   \n",
       "3  72504_1x_BH8_01_17502.mzXML  plastic                    1.9545   \n",
       "4  72537_1x_BG5_01_17486.mzXML   plastic                   1.9385   \n",
       "\n",
       "  botanical_genus ATTRIBUTE_botanical_anatomy final_ethanol_weight gmo  \\\n",
       "0          allium                        stem               2.0369  no   \n",
       "1         Cucumis                       fruit               2.1797  no   \n",
       "2           Malus                       fruit               2.3257  no   \n",
       "3           ficus                       fruit               2.1733  no   \n",
       "4         Solanum                       fruit               2.1044  no   \n",
       "\n",
       "  sample_in_tube_ethanol_weight    sample_type_group6  \\\n",
       "0                          0.11                garlic   \n",
       "1                        0.2554                 galia   \n",
       "2                        0.3757                 apple   \n",
       "3                        0.2188           turkish fig   \n",
       "4                        0.1659  orange cherry tomato   \n",
       "\n",
       "  ATTRIBUTE_GNPSDefaultGroup  \n",
       "0                 Not Mapped  \n",
       "1                         G1  \n",
       "2                         G1  \n",
       "3                         G1  \n",
       "4                 Not Mapped  "
      ]
     },
     "execution_count": 5,
     "metadata": {},
     "output_type": "execute_result"
    }
   ],
   "source": [
    "md.head()"
   ]
  },
  {
   "cell_type": "code",
   "execution_count": 6,
   "metadata": {},
   "outputs": [
    {
     "data": {
      "text/plain": [
       "{'72475_1x_BC9_01_17418',\n",
       " '72537_1x_BG5_01_17486',\n",
       " '72674_1x_BG4_01_17472',\n",
       " '75904_1x_BA11_01_17394',\n",
       " 'G72441_1x_BA6_01_17274',\n",
       " 'G72449_1x_BB6_01_17263',\n",
       " 'G72451_p2_c6_GA3_01_21633',\n",
       " 'G72452_rerun_5ul_RE11_01_17715',\n",
       " 'G72453_RA12_01_17534',\n",
       " 'G72471_1x_BD6_01_17298',\n",
       " 'G72472_1x_rerun_BE6_01_17363',\n",
       " 'G72478_1x_BF6_01_17324',\n",
       " 'G72746_10x_3ul_BB3_01_17887',\n",
       " 'G75169_1x_rerun_RB6_01_18903',\n",
       " 'G75665_1x_RA4_01_18788',\n",
       " 'G78883_lentil_red_BF1_01_20549',\n",
       " 'G78971_1x_BH8_01_20273',\n",
       " 'G79230_1x_RG9_01_18890',\n",
       " 'G79694_5x_rerun_BA2_01_20072',\n",
       " 'G83196_10ul_GC2_01_20478',\n",
       " 'G83197_10ul_rerun_GC3_01_20487'}"
      ]
     },
     "execution_count": 6,
     "metadata": {},
     "output_type": "execute_result"
    }
   ],
   "source": [
    "set(md['#SampleID']) - set(bt.columns)"
   ]
  },
  {
   "cell_type": "code",
   "execution_count": 7,
   "metadata": {},
   "outputs": [
    {
     "data": {
      "text/plain": [
       "{'#OTU ID',\n",
       " 'G72761_BD9_01_18997',\n",
       " 'G75655_5x_rerun_BH5_01_19405',\n",
       " 'G78833_1x_RF12_01_18879'}"
      ]
     },
     "execution_count": 7,
     "metadata": {},
     "output_type": "execute_result"
    }
   ],
   "source": [
    "set(bt.columns) - set(md['#SampleID'])"
   ]
  },
  {
   "cell_type": "code",
   "execution_count": 8,
   "metadata": {},
   "outputs": [],
   "source": [
    "bt = bt.drop(['G72761_BD9_01_18997','G75655_5x_rerun_BH5_01_19405','G78833_1x_RF12_01_18879'], axis=1)"
   ]
  },
  {
   "cell_type": "code",
   "execution_count": 9,
   "metadata": {},
   "outputs": [
    {
     "data": {
      "text/html": [
       "<div>\n",
       "<style scoped>\n",
       "    .dataframe tbody tr th:only-of-type {\n",
       "        vertical-align: middle;\n",
       "    }\n",
       "\n",
       "    .dataframe tbody tr th {\n",
       "        vertical-align: top;\n",
       "    }\n",
       "\n",
       "    .dataframe thead th {\n",
       "        text-align: right;\n",
       "    }\n",
       "</style>\n",
       "<table border=\"1\" class=\"dataframe\">\n",
       "  <thead>\n",
       "    <tr style=\"text-align: right;\">\n",
       "      <th></th>\n",
       "      <th>#OTU ID</th>\n",
       "      <th>G78918_rerun_RA4_01_17526</th>\n",
       "      <th>G75202_1x_rerun_BG1_01_17374</th>\n",
       "      <th>G78835_1x_RC12_01_18824</th>\n",
       "      <th>G79246_1x_RD10_01_18842</th>\n",
       "      <th>G75250_5x_RA7_01_19465</th>\n",
       "      <th>G86821_10x_RF3_01_23198</th>\n",
       "      <th>78816_5x_RH5_01_17511</th>\n",
       "      <th>G79289_1x_RB7_01_20256</th>\n",
       "      <th>G75209_1x_BH2_01_17346</th>\n",
       "      <th>...</th>\n",
       "      <th>G90221_1x_BD7_01_26585</th>\n",
       "      <th>G78927_rerun_5ul_RG2_01_17724</th>\n",
       "      <th>G83416_5x_RH6_01_21514</th>\n",
       "      <th>G83208_5x_5ul_RB8_01_21527</th>\n",
       "      <th>G83399_5x_rerun_2ul_RC7_01_21525</th>\n",
       "      <th>G83226_1x_RC12_01_20300</th>\n",
       "      <th>G78913_RF3_01_17605</th>\n",
       "      <th>G79301_1x_RA2_01_18786</th>\n",
       "      <th>G87559_1x_RA9_01_26233</th>\n",
       "      <th>G83314_5x_RA10_01_21409</th>\n",
       "    </tr>\n",
       "  </thead>\n",
       "  <tbody>\n",
       "    <tr>\n",
       "      <th>0</th>\n",
       "      <td>11740</td>\n",
       "      <td>0.0</td>\n",
       "      <td>0.0</td>\n",
       "      <td>0.0</td>\n",
       "      <td>0.0</td>\n",
       "      <td>0.0</td>\n",
       "      <td>0.0</td>\n",
       "      <td>0.0</td>\n",
       "      <td>0.0</td>\n",
       "      <td>0.0</td>\n",
       "      <td>...</td>\n",
       "      <td>0.0</td>\n",
       "      <td>0.0</td>\n",
       "      <td>0.0</td>\n",
       "      <td>0.0</td>\n",
       "      <td>0.0</td>\n",
       "      <td>0.0</td>\n",
       "      <td>0.0</td>\n",
       "      <td>0.0</td>\n",
       "      <td>0.0</td>\n",
       "      <td>0.0</td>\n",
       "    </tr>\n",
       "    <tr>\n",
       "      <th>1</th>\n",
       "      <td>39617</td>\n",
       "      <td>0.0</td>\n",
       "      <td>0.0</td>\n",
       "      <td>0.0</td>\n",
       "      <td>0.0</td>\n",
       "      <td>0.0</td>\n",
       "      <td>0.0</td>\n",
       "      <td>0.0</td>\n",
       "      <td>0.0</td>\n",
       "      <td>0.0</td>\n",
       "      <td>...</td>\n",
       "      <td>0.0</td>\n",
       "      <td>0.0</td>\n",
       "      <td>0.0</td>\n",
       "      <td>0.0</td>\n",
       "      <td>0.0</td>\n",
       "      <td>0.0</td>\n",
       "      <td>0.0</td>\n",
       "      <td>0.0</td>\n",
       "      <td>0.0</td>\n",
       "      <td>0.0</td>\n",
       "    </tr>\n",
       "    <tr>\n",
       "      <th>2</th>\n",
       "      <td>34992</td>\n",
       "      <td>0.0</td>\n",
       "      <td>0.0</td>\n",
       "      <td>0.0</td>\n",
       "      <td>0.0</td>\n",
       "      <td>0.0</td>\n",
       "      <td>0.0</td>\n",
       "      <td>0.0</td>\n",
       "      <td>0.0</td>\n",
       "      <td>0.0</td>\n",
       "      <td>...</td>\n",
       "      <td>0.0</td>\n",
       "      <td>0.0</td>\n",
       "      <td>0.0</td>\n",
       "      <td>0.0</td>\n",
       "      <td>0.0</td>\n",
       "      <td>0.0</td>\n",
       "      <td>0.0</td>\n",
       "      <td>0.0</td>\n",
       "      <td>0.0</td>\n",
       "      <td>0.0</td>\n",
       "    </tr>\n",
       "    <tr>\n",
       "      <th>3</th>\n",
       "      <td>48356</td>\n",
       "      <td>0.0</td>\n",
       "      <td>0.0</td>\n",
       "      <td>0.0</td>\n",
       "      <td>0.0</td>\n",
       "      <td>0.0</td>\n",
       "      <td>0.0</td>\n",
       "      <td>0.0</td>\n",
       "      <td>0.0</td>\n",
       "      <td>0.0</td>\n",
       "      <td>...</td>\n",
       "      <td>0.0</td>\n",
       "      <td>0.0</td>\n",
       "      <td>0.0</td>\n",
       "      <td>0.0</td>\n",
       "      <td>0.0</td>\n",
       "      <td>0.0</td>\n",
       "      <td>0.0</td>\n",
       "      <td>0.0</td>\n",
       "      <td>0.0</td>\n",
       "      <td>0.0</td>\n",
       "    </tr>\n",
       "    <tr>\n",
       "      <th>4</th>\n",
       "      <td>21500</td>\n",
       "      <td>0.0</td>\n",
       "      <td>0.0</td>\n",
       "      <td>0.0</td>\n",
       "      <td>0.0</td>\n",
       "      <td>0.0</td>\n",
       "      <td>0.0</td>\n",
       "      <td>0.0</td>\n",
       "      <td>0.0</td>\n",
       "      <td>0.0</td>\n",
       "      <td>...</td>\n",
       "      <td>0.0</td>\n",
       "      <td>0.0</td>\n",
       "      <td>0.0</td>\n",
       "      <td>0.0</td>\n",
       "      <td>0.0</td>\n",
       "      <td>0.0</td>\n",
       "      <td>0.0</td>\n",
       "      <td>0.0</td>\n",
       "      <td>0.0</td>\n",
       "      <td>0.0</td>\n",
       "    </tr>\n",
       "  </tbody>\n",
       "</table>\n",
       "<p>5 rows × 565 columns</p>\n",
       "</div>"
      ],
      "text/plain": [
       "   #OTU ID  G78918_rerun_RA4_01_17526  G75202_1x_rerun_BG1_01_17374  \\\n",
       "0    11740                        0.0                           0.0   \n",
       "1    39617                        0.0                           0.0   \n",
       "2    34992                        0.0                           0.0   \n",
       "3    48356                        0.0                           0.0   \n",
       "4    21500                        0.0                           0.0   \n",
       "\n",
       "   G78835_1x_RC12_01_18824  G79246_1x_RD10_01_18842  G75250_5x_RA7_01_19465  \\\n",
       "0                      0.0                      0.0                     0.0   \n",
       "1                      0.0                      0.0                     0.0   \n",
       "2                      0.0                      0.0                     0.0   \n",
       "3                      0.0                      0.0                     0.0   \n",
       "4                      0.0                      0.0                     0.0   \n",
       "\n",
       "   G86821_10x_RF3_01_23198  78816_5x_RH5_01_17511  G79289_1x_RB7_01_20256  \\\n",
       "0                      0.0                    0.0                     0.0   \n",
       "1                      0.0                    0.0                     0.0   \n",
       "2                      0.0                    0.0                     0.0   \n",
       "3                      0.0                    0.0                     0.0   \n",
       "4                      0.0                    0.0                     0.0   \n",
       "\n",
       "   G75209_1x_BH2_01_17346  ...  G90221_1x_BD7_01_26585  \\\n",
       "0                     0.0  ...                     0.0   \n",
       "1                     0.0  ...                     0.0   \n",
       "2                     0.0  ...                     0.0   \n",
       "3                     0.0  ...                     0.0   \n",
       "4                     0.0  ...                     0.0   \n",
       "\n",
       "   G78927_rerun_5ul_RG2_01_17724  G83416_5x_RH6_01_21514  \\\n",
       "0                            0.0                     0.0   \n",
       "1                            0.0                     0.0   \n",
       "2                            0.0                     0.0   \n",
       "3                            0.0                     0.0   \n",
       "4                            0.0                     0.0   \n",
       "\n",
       "   G83208_5x_5ul_RB8_01_21527  G83399_5x_rerun_2ul_RC7_01_21525  \\\n",
       "0                         0.0                               0.0   \n",
       "1                         0.0                               0.0   \n",
       "2                         0.0                               0.0   \n",
       "3                         0.0                               0.0   \n",
       "4                         0.0                               0.0   \n",
       "\n",
       "   G83226_1x_RC12_01_20300  G78913_RF3_01_17605  G79301_1x_RA2_01_18786  \\\n",
       "0                      0.0                  0.0                     0.0   \n",
       "1                      0.0                  0.0                     0.0   \n",
       "2                      0.0                  0.0                     0.0   \n",
       "3                      0.0                  0.0                     0.0   \n",
       "4                      0.0                  0.0                     0.0   \n",
       "\n",
       "   G87559_1x_RA9_01_26233  G83314_5x_RA10_01_21409  \n",
       "0                     0.0                      0.0  \n",
       "1                     0.0                      0.0  \n",
       "2                     0.0                      0.0  \n",
       "3                     0.0                      0.0  \n",
       "4                     0.0                      0.0  \n",
       "\n",
       "[5 rows x 565 columns]"
      ]
     },
     "execution_count": 9,
     "metadata": {},
     "output_type": "execute_result"
    }
   ],
   "source": [
    "bt.head()"
   ]
  },
  {
   "cell_type": "code",
   "execution_count": 10,
   "metadata": {},
   "outputs": [],
   "source": [
    "bt.to_csv(\"FeatureTable_Superfood.tsv\",sep='\\t',index=False)"
   ]
  },
  {
   "cell_type": "code",
   "execution_count": 11,
   "metadata": {},
   "outputs": [],
   "source": [
    "md.to_csv(\"MetaData_Superfood.tsv\",sep='\\t',index=False)"
   ]
  },
  {
   "cell_type": "markdown",
   "metadata": {},
   "source": [
    "#### create separate feature tables with only selected botanical families"
   ]
  },
  {
   "cell_type": "code",
   "execution_count": 12,
   "metadata": {},
   "outputs": [],
   "source": [
    "bt = bt.set_index('#OTU ID')"
   ]
  },
  {
   "cell_type": "code",
   "execution_count": 16,
   "metadata": {},
   "outputs": [],
   "source": [
    "amaryllidaceae = [item for item in list(md['#SampleID'][md['ATTRIBUTE_family_genus'].str.contains('Amaryllidaceae')]) if item in list(bt.columns)]\n",
    "amaranthaceae = [item for item in list(md['#SampleID'][md['ATTRIBUTE_family_genus'].str.contains('Amaranthaceae')]) if item in list(bt.columns)]\n",
    "lamiaceae = [item for item in list(md['#SampleID'][md['ATTRIBUTE_family_genus'].str.contains('Lamiaceae')]) if item in list(bt.columns)]\n",
    "rosaceae = [item for item in list(md['#SampleID'][md['ATTRIBUTE_family_genus'].str.contains('Rosaceae')]) if item in list(bt.columns)]"
   ]
  },
  {
   "cell_type": "code",
   "execution_count": 45,
   "metadata": {},
   "outputs": [],
   "source": [
    "fruits = [item for item in list(md['#SampleID'][md['ATTRIBUTE_botanical_anatomy'].str.contains('fruit')]) if item in list(bt.columns)]"
   ]
  },
  {
   "cell_type": "code",
   "execution_count": 17,
   "metadata": {},
   "outputs": [],
   "source": [
    "bt_amaryllidaceae = bt[amaryllidaceae]\n",
    "bt_amaranthaceae = bt[amaranthaceae]\n",
    "bt_lamiaceae = bt[lamiaceae]\n",
    "bt_rosaceae = bt[rosaceae]"
   ]
  },
  {
   "cell_type": "code",
   "execution_count": 47,
   "metadata": {},
   "outputs": [],
   "source": [
    "bt_fruits = bt[fruits]"
   ]
  },
  {
   "cell_type": "code",
   "execution_count": 18,
   "metadata": {},
   "outputs": [],
   "source": [
    "bt_amaryllidaceae.insert(0, '#OTU ID', bt_amaryllidaceae.index)\n",
    "bt_amaranthaceae.insert(0, '#OTU ID', bt_amaranthaceae.index)\n",
    "bt_lamiaceae.insert(0, '#OTU ID', bt_lamiaceae.index)\n",
    "bt_rosaceae.insert(0, '#OTU ID', bt_rosaceae.index)"
   ]
  },
  {
   "cell_type": "code",
   "execution_count": 48,
   "metadata": {},
   "outputs": [],
   "source": [
    "bt_fruits.insert(0, '#OTU ID', bt_fruits.index)"
   ]
  },
  {
   "cell_type": "code",
   "execution_count": 19,
   "metadata": {},
   "outputs": [
    {
     "data": {
      "text/html": [
       "<div>\n",
       "<style scoped>\n",
       "    .dataframe tbody tr th:only-of-type {\n",
       "        vertical-align: middle;\n",
       "    }\n",
       "\n",
       "    .dataframe tbody tr th {\n",
       "        vertical-align: top;\n",
       "    }\n",
       "\n",
       "    .dataframe thead th {\n",
       "        text-align: right;\n",
       "    }\n",
       "</style>\n",
       "<table border=\"1\" class=\"dataframe\">\n",
       "  <thead>\n",
       "    <tr style=\"text-align: right;\">\n",
       "      <th></th>\n",
       "      <th>#OTU ID</th>\n",
       "      <th>74004_1x_BD2_01_17474</th>\n",
       "      <th>78806_1x_BG11_01_17510</th>\n",
       "      <th>78832_1x_BH12_01_17516</th>\n",
       "      <th>G72532_1x_BC7_01_17286</th>\n",
       "      <th>G72755_10x_BC3_01_17812</th>\n",
       "      <th>G73635_1x_RH2_01_20359</th>\n",
       "      <th>G73941_1x_BA5_01_17250</th>\n",
       "      <th>G73948_p2_h12_GC3_01_21635</th>\n",
       "      <th>G73949_1x_BC12_01_17290</th>\n",
       "      <th>G75129_1x_RD9_01_18841</th>\n",
       "      <th>G79281_1x_rerun_10ul_RB9_01_20389</th>\n",
       "      <th>G86725_10x_RG11_01_23223</th>\n",
       "      <th>G86727_10x_RH2_01_23228</th>\n",
       "      <th>G86790_1x_2u_RH1_01_23445</th>\n",
       "      <th>G86822_1x_RF8_01_23366</th>\n",
       "      <th>G87556_1x_RE8_01_26300</th>\n",
       "    </tr>\n",
       "    <tr>\n",
       "      <th>#OTU ID</th>\n",
       "      <th></th>\n",
       "      <th></th>\n",
       "      <th></th>\n",
       "      <th></th>\n",
       "      <th></th>\n",
       "      <th></th>\n",
       "      <th></th>\n",
       "      <th></th>\n",
       "      <th></th>\n",
       "      <th></th>\n",
       "      <th></th>\n",
       "      <th></th>\n",
       "      <th></th>\n",
       "      <th></th>\n",
       "      <th></th>\n",
       "      <th></th>\n",
       "      <th></th>\n",
       "    </tr>\n",
       "  </thead>\n",
       "  <tbody>\n",
       "    <tr>\n",
       "      <th>11740</th>\n",
       "      <td>11740</td>\n",
       "      <td>0.0</td>\n",
       "      <td>0.0</td>\n",
       "      <td>0.0</td>\n",
       "      <td>0.0</td>\n",
       "      <td>0.0</td>\n",
       "      <td>0.0</td>\n",
       "      <td>0.0</td>\n",
       "      <td>0.0</td>\n",
       "      <td>0.0</td>\n",
       "      <td>0.0</td>\n",
       "      <td>0.0</td>\n",
       "      <td>0.0</td>\n",
       "      <td>0.0</td>\n",
       "      <td>0.0</td>\n",
       "      <td>0.0</td>\n",
       "      <td>0.0</td>\n",
       "    </tr>\n",
       "    <tr>\n",
       "      <th>39617</th>\n",
       "      <td>39617</td>\n",
       "      <td>0.0</td>\n",
       "      <td>0.0</td>\n",
       "      <td>0.0</td>\n",
       "      <td>0.0</td>\n",
       "      <td>0.0</td>\n",
       "      <td>0.0</td>\n",
       "      <td>0.0</td>\n",
       "      <td>0.0</td>\n",
       "      <td>0.0</td>\n",
       "      <td>0.0</td>\n",
       "      <td>0.0</td>\n",
       "      <td>0.0</td>\n",
       "      <td>0.0</td>\n",
       "      <td>0.0</td>\n",
       "      <td>0.0</td>\n",
       "      <td>0.0</td>\n",
       "    </tr>\n",
       "    <tr>\n",
       "      <th>34992</th>\n",
       "      <td>34992</td>\n",
       "      <td>0.0</td>\n",
       "      <td>0.0</td>\n",
       "      <td>0.0</td>\n",
       "      <td>0.0</td>\n",
       "      <td>0.0</td>\n",
       "      <td>0.0</td>\n",
       "      <td>0.0</td>\n",
       "      <td>0.0</td>\n",
       "      <td>0.0</td>\n",
       "      <td>0.0</td>\n",
       "      <td>0.0</td>\n",
       "      <td>0.0</td>\n",
       "      <td>0.0</td>\n",
       "      <td>0.0</td>\n",
       "      <td>0.0</td>\n",
       "      <td>0.0</td>\n",
       "    </tr>\n",
       "    <tr>\n",
       "      <th>48356</th>\n",
       "      <td>48356</td>\n",
       "      <td>0.0</td>\n",
       "      <td>0.0</td>\n",
       "      <td>0.0</td>\n",
       "      <td>0.0</td>\n",
       "      <td>0.0</td>\n",
       "      <td>0.0</td>\n",
       "      <td>0.0</td>\n",
       "      <td>0.0</td>\n",
       "      <td>0.0</td>\n",
       "      <td>0.0</td>\n",
       "      <td>0.0</td>\n",
       "      <td>0.0</td>\n",
       "      <td>0.0</td>\n",
       "      <td>0.0</td>\n",
       "      <td>0.0</td>\n",
       "      <td>0.0</td>\n",
       "    </tr>\n",
       "    <tr>\n",
       "      <th>21500</th>\n",
       "      <td>21500</td>\n",
       "      <td>0.0</td>\n",
       "      <td>0.0</td>\n",
       "      <td>0.0</td>\n",
       "      <td>0.0</td>\n",
       "      <td>0.0</td>\n",
       "      <td>0.0</td>\n",
       "      <td>0.0</td>\n",
       "      <td>0.0</td>\n",
       "      <td>0.0</td>\n",
       "      <td>0.0</td>\n",
       "      <td>0.0</td>\n",
       "      <td>0.0</td>\n",
       "      <td>0.0</td>\n",
       "      <td>0.0</td>\n",
       "      <td>0.0</td>\n",
       "      <td>0.0</td>\n",
       "    </tr>\n",
       "  </tbody>\n",
       "</table>\n",
       "</div>"
      ],
      "text/plain": [
       "         #OTU ID  74004_1x_BD2_01_17474  78806_1x_BG11_01_17510  \\\n",
       "#OTU ID                                                           \n",
       "11740      11740                    0.0                     0.0   \n",
       "39617      39617                    0.0                     0.0   \n",
       "34992      34992                    0.0                     0.0   \n",
       "48356      48356                    0.0                     0.0   \n",
       "21500      21500                    0.0                     0.0   \n",
       "\n",
       "         78832_1x_BH12_01_17516  G72532_1x_BC7_01_17286  \\\n",
       "#OTU ID                                                   \n",
       "11740                       0.0                     0.0   \n",
       "39617                       0.0                     0.0   \n",
       "34992                       0.0                     0.0   \n",
       "48356                       0.0                     0.0   \n",
       "21500                       0.0                     0.0   \n",
       "\n",
       "         G72755_10x_BC3_01_17812  G73635_1x_RH2_01_20359  \\\n",
       "#OTU ID                                                    \n",
       "11740                        0.0                     0.0   \n",
       "39617                        0.0                     0.0   \n",
       "34992                        0.0                     0.0   \n",
       "48356                        0.0                     0.0   \n",
       "21500                        0.0                     0.0   \n",
       "\n",
       "         G73941_1x_BA5_01_17250  G73948_p2_h12_GC3_01_21635  \\\n",
       "#OTU ID                                                       \n",
       "11740                       0.0                         0.0   \n",
       "39617                       0.0                         0.0   \n",
       "34992                       0.0                         0.0   \n",
       "48356                       0.0                         0.0   \n",
       "21500                       0.0                         0.0   \n",
       "\n",
       "         G73949_1x_BC12_01_17290  G75129_1x_RD9_01_18841  \\\n",
       "#OTU ID                                                    \n",
       "11740                        0.0                     0.0   \n",
       "39617                        0.0                     0.0   \n",
       "34992                        0.0                     0.0   \n",
       "48356                        0.0                     0.0   \n",
       "21500                        0.0                     0.0   \n",
       "\n",
       "         G79281_1x_rerun_10ul_RB9_01_20389  G86725_10x_RG11_01_23223  \\\n",
       "#OTU ID                                                                \n",
       "11740                                  0.0                       0.0   \n",
       "39617                                  0.0                       0.0   \n",
       "34992                                  0.0                       0.0   \n",
       "48356                                  0.0                       0.0   \n",
       "21500                                  0.0                       0.0   \n",
       "\n",
       "         G86727_10x_RH2_01_23228  G86790_1x_2u_RH1_01_23445  \\\n",
       "#OTU ID                                                       \n",
       "11740                        0.0                        0.0   \n",
       "39617                        0.0                        0.0   \n",
       "34992                        0.0                        0.0   \n",
       "48356                        0.0                        0.0   \n",
       "21500                        0.0                        0.0   \n",
       "\n",
       "         G86822_1x_RF8_01_23366  G87556_1x_RE8_01_26300  \n",
       "#OTU ID                                                  \n",
       "11740                       0.0                     0.0  \n",
       "39617                       0.0                     0.0  \n",
       "34992                       0.0                     0.0  \n",
       "48356                       0.0                     0.0  \n",
       "21500                       0.0                     0.0  "
      ]
     },
     "execution_count": 19,
     "metadata": {},
     "output_type": "execute_result"
    }
   ],
   "source": [
    "bt_amaryllidaceae.head()"
   ]
  },
  {
   "cell_type": "code",
   "execution_count": 20,
   "metadata": {},
   "outputs": [],
   "source": [
    "bt_amaryllidaceae.to_csv(\"FeatureTable_Amaryllidaceae.tsv\",sep='\\t',index=False)\n",
    "bt_amaranthaceae.to_csv(\"FeatureTable_Amaranthaceae.tsv\",sep='\\t',index=False)\n",
    "bt_lamiaceae.to_csv(\"FeatureTable_Lamiaceae.tsv\",sep='\\t',index=False)\n",
    "bt_rosaceae.to_csv(\"FeatureTable_Rosaceae.tsv\",sep='\\t',index=False)"
   ]
  },
  {
   "cell_type": "code",
   "execution_count": 50,
   "metadata": {},
   "outputs": [],
   "source": [
    "bt_fruits.to_csv(\"FeatureTable_Fruits.tsv\",sep='\\t',index=False)"
   ]
  },
  {
   "cell_type": "markdown",
   "metadata": {},
   "source": [
    "## Transform feature tables to .qza format for Qiime2"
   ]
  },
  {
   "cell_type": "markdown",
   "metadata": {},
   "source": [
    "### All"
   ]
  },
  {
   "cell_type": "code",
   "execution_count": 21,
   "metadata": {},
   "outputs": [],
   "source": [
    "import qiime2 as q2\n",
    "import os\n",
    "path = '/Users/madeleineernst/anaconda3/envs/qiime2-2019.7/bin/' # define path to qiime2 conda environment\n",
    "os.environ['PATH'] += ':'+path"
   ]
  },
  {
   "cell_type": "code",
   "execution_count": 3,
   "metadata": {},
   "outputs": [],
   "source": [
    "! biom convert \\\n",
    "    -i FeatureTable_Superfood.tsv \\\n",
    "    -o FeatureTable_Superfood.biom \\\n",
    "    --table-type=\"OTU table\" --to-hdf5"
   ]
  },
  {
   "cell_type": "code",
   "execution_count": 4,
   "metadata": {},
   "outputs": [
    {
     "name": "stdout",
     "output_type": "stream",
     "text": [
      "\u001b[32mImported FeatureTable_Superfood.biom as BIOMV210DirFmt to FeatureTable_Superfood.qza\u001b[0m\r\n"
     ]
    }
   ],
   "source": [
    "! qiime tools import --type 'FeatureTable[Frequency]' \\\n",
    "    --input-path FeatureTable_Superfood.biom \\\n",
    "    --output-path FeatureTable_Superfood.qza"
   ]
  },
  {
   "cell_type": "markdown",
   "metadata": {},
   "source": [
    "### Fruits"
   ]
  },
  {
   "cell_type": "code",
   "execution_count": 51,
   "metadata": {},
   "outputs": [],
   "source": [
    "! biom convert \\\n",
    "    -i FeatureTable_Fruits.tsv \\\n",
    "    -o FeatureTable_Fruits.biom \\\n",
    "    --table-type=\"OTU table\" --to-hdf5"
   ]
  },
  {
   "cell_type": "code",
   "execution_count": 53,
   "metadata": {},
   "outputs": [
    {
     "name": "stdout",
     "output_type": "stream",
     "text": [
      "\u001b[32mImported FeatureTable_Fruits.biom as BIOMV210DirFmt to FeatureTable_Fruits.qza\u001b[0m\r\n"
     ]
    }
   ],
   "source": [
    "! qiime tools import --type 'FeatureTable[Frequency]' \\\n",
    "    --input-path FeatureTable_Fruits.biom \\\n",
    "    --output-path FeatureTable_Fruits.qza"
   ]
  },
  {
   "cell_type": "markdown",
   "metadata": {},
   "source": [
    "### Amaryllidaceae"
   ]
  },
  {
   "cell_type": "code",
   "execution_count": 22,
   "metadata": {},
   "outputs": [],
   "source": [
    "! biom convert \\\n",
    "    -i FeatureTable_amaryllidaceae.tsv \\\n",
    "    -o FeatureTable_amaryllidaceae.biom \\\n",
    "    --table-type=\"OTU table\" --to-hdf5"
   ]
  },
  {
   "cell_type": "code",
   "execution_count": 23,
   "metadata": {},
   "outputs": [
    {
     "name": "stdout",
     "output_type": "stream",
     "text": [
      "\u001b[32mImported FeatureTable_amaryllidaceae.biom as BIOMV210DirFmt to FeatureTable_amaryllidaceae.qza\u001b[0m\r\n"
     ]
    }
   ],
   "source": [
    "! qiime tools import --type 'FeatureTable[Frequency]' \\\n",
    "    --input-path FeatureTable_amaryllidaceae.biom \\\n",
    "    --output-path FeatureTable_amaryllidaceae.qza"
   ]
  },
  {
   "cell_type": "markdown",
   "metadata": {},
   "source": [
    "### Amaranthaceae"
   ]
  },
  {
   "cell_type": "code",
   "execution_count": 25,
   "metadata": {},
   "outputs": [],
   "source": [
    "! biom convert \\\n",
    "    -i FeatureTable_amaranthaceae.tsv \\\n",
    "    -o FeatureTable_amaranthaceae.biom \\\n",
    "    --table-type=\"OTU table\" --to-hdf5"
   ]
  },
  {
   "cell_type": "code",
   "execution_count": 26,
   "metadata": {},
   "outputs": [
    {
     "name": "stdout",
     "output_type": "stream",
     "text": [
      "\u001b[32mImported FeatureTable_amaranthaceae.biom as BIOMV210DirFmt to FeatureTable_amaranthaceae.qza\u001b[0m\r\n"
     ]
    }
   ],
   "source": [
    "! qiime tools import --type 'FeatureTable[Frequency]' \\\n",
    "    --input-path FeatureTable_amaranthaceae.biom \\\n",
    "    --output-path FeatureTable_amaranthaceae.qza"
   ]
  },
  {
   "cell_type": "markdown",
   "metadata": {},
   "source": [
    "### Lamiaceae"
   ]
  },
  {
   "cell_type": "code",
   "execution_count": 27,
   "metadata": {},
   "outputs": [],
   "source": [
    "! biom convert \\\n",
    "    -i FeatureTable_lamiaceae.tsv \\\n",
    "    -o FeatureTable_lamiaceae.biom \\\n",
    "    --table-type=\"OTU table\" --to-hdf5"
   ]
  },
  {
   "cell_type": "code",
   "execution_count": 28,
   "metadata": {},
   "outputs": [
    {
     "name": "stdout",
     "output_type": "stream",
     "text": [
      "\u001b[32mImported FeatureTable_lamiaceae.biom as BIOMV210DirFmt to FeatureTable_lamiaceae.qza\u001b[0m\r\n"
     ]
    }
   ],
   "source": [
    "! qiime tools import --type 'FeatureTable[Frequency]' \\\n",
    "    --input-path FeatureTable_lamiaceae.biom \\\n",
    "    --output-path FeatureTable_lamiaceae.qza"
   ]
  },
  {
   "cell_type": "markdown",
   "metadata": {},
   "source": [
    "### Rosaceae"
   ]
  },
  {
   "cell_type": "code",
   "execution_count": 29,
   "metadata": {},
   "outputs": [],
   "source": [
    "! biom convert \\\n",
    "    -i FeatureTable_rosaceae.tsv \\\n",
    "    -o FeatureTable_rosaceae.biom \\\n",
    "    --table-type=\"OTU table\" --to-hdf5"
   ]
  },
  {
   "cell_type": "code",
   "execution_count": 30,
   "metadata": {},
   "outputs": [
    {
     "name": "stdout",
     "output_type": "stream",
     "text": [
      "\u001b[32mImported FeatureTable_rosaceae.biom as BIOMV210DirFmt to FeatureTable_rosaceae.qza\u001b[0m\r\n"
     ]
    }
   ],
   "source": [
    "! qiime tools import --type 'FeatureTable[Frequency]' \\\n",
    "    --input-path FeatureTable_rosaceae.biom \\\n",
    "    --output-path FeatureTable_rosaceae.qza"
   ]
  },
  {
   "cell_type": "markdown",
   "metadata": {},
   "source": [
    "## Calculate Jaccard distance"
   ]
  },
  {
   "cell_type": "markdown",
   "metadata": {},
   "source": [
    "### All"
   ]
  },
  {
   "cell_type": "code",
   "execution_count": 4,
   "metadata": {},
   "outputs": [],
   "source": [
    "!mkdir Jaccard"
   ]
  },
  {
   "cell_type": "code",
   "execution_count": 5,
   "metadata": {},
   "outputs": [
    {
     "name": "stdout",
     "output_type": "stream",
     "text": [
      "\u001b[32mSaved DistanceMatrix to: Jaccard/jaccard_distance_matrix.qza\u001b[0m\n",
      "\u001b[32mSaved PCoAResults to: Jaccard/jaccard_distance_matrix_PcoA.qza\u001b[0m\n",
      "\u001b[32mSaved Visualization to: Jaccard/jaccard_distance_matrix_PcoA.qzv\u001b[0m\n"
     ]
    }
   ],
   "source": [
    "! qiime diversity beta --i-table FeatureTable_Superfood.qza --p-metric jaccard --o-distance-matrix Jaccard/jaccard_distance_matrix.qza\n",
    "! qiime diversity pcoa --i-distance-matrix Jaccard/jaccard_distance_matrix.qza --o-pcoa Jaccard/jaccard_distance_matrix_PcoA.qza\n",
    "! qiime emperor plot --i-pcoa Jaccard/jaccard_distance_matrix_PcoA.qza --m-metadata-file MetaData_Superfood.tsv --o-visualization Jaccard/jaccard_distance_matrix_PcoA.qzv"
   ]
  },
  {
   "cell_type": "code",
   "execution_count": 6,
   "metadata": {},
   "outputs": [
    {
     "data": {
      "text/html": [
       "<div><img onload=\"(function(div, url){\n",
       "if (typeof require !== 'undefined') {\n",
       "    var baseURL = require.toUrl('').split('/').slice(0, -2).join('/');\n",
       "} else {\n",
       "    var baseURL = JSON.parse(\n",
       "        document.getElementById('jupyter-config-data').innerHTML\n",
       "    ).baseUrl.slice(0, -1);\n",
       "}\n",
       "url = baseURL + url;\n",
       "fetch(url).then(function(res) {\n",
       "    if (res.status === 404) {\n",
       "        div.innerHTML = 'Install QIIME 2 Jupyter extension with:<br />' +\n",
       "                        '<code>jupyter serverextension enable --py qiime2' +\n",
       "                        ' --sys-prefix</code><br />then restart your server.' +\n",
       "                        '<br /><br />(Interactive output not available on ' +\n",
       "                        'static notebook viewer services like nbviewer.)';\n",
       "    } else if (res.status === 409) {\n",
       "        div.innerHTML = 'Visualization no longer in scope. Re-run this cell' +\n",
       "                        ' to see the visualization.';\n",
       "    } else if (res.ok) {\n",
       "        url = res.url;\n",
       "        div.innerHTML = '<iframe src=\\'' + url + '\\' style=\\'' +\n",
       "                        'width: 100%; height: 700px; border: 0;\\'>' +\n",
       "                        '</iframe><hr />Open in a: <a href=\\'' + url + '\\'' +\n",
       "                        ' target=\\'_blank\\'>new window</a>'\n",
       "    } else {\n",
       "        div.innerHTML = 'Something has gone wrong. Check notebook server for' +\n",
       "                        ' errors.';\n",
       "    }\n",
       "});\n",
       "})(this.parentElement, '/qiime2/redirect?location=/var/folders/k7/zs6jm5h95875g74l66xfxq6m0000gn/T/qiime2-archive-g_zqpcf6')\" src=\"data:image/gif;base64,R0lGODlhAQABAIAAAP///wAAACH5BAEAAAAALAAAAAABAAEAAAICRAEAOw==\" /></div>"
      ],
      "text/plain": [
       "<visualization: Visualization uuid: a4d90abd-c525-4c9d-9f70-327cc6a71db3>"
      ]
     },
     "execution_count": 6,
     "metadata": {},
     "output_type": "execute_result"
    }
   ],
   "source": [
    "q2.Visualization.load('Jaccard/jaccard_distance_matrix_PcoA.qzv')"
   ]
  },
  {
   "cell_type": "markdown",
   "metadata": {},
   "source": [
    "### Fruits"
   ]
  },
  {
   "cell_type": "code",
   "execution_count": 55,
   "metadata": {},
   "outputs": [],
   "source": [
    "!mkdir Jaccard_Fruits"
   ]
  },
  {
   "cell_type": "code",
   "execution_count": 58,
   "metadata": {},
   "outputs": [
    {
     "name": "stdout",
     "output_type": "stream",
     "text": [
      "\u001b[32mSaved DistanceMatrix to: Jaccard_Fruits/jaccard_distance_matrix.qza\u001b[0m\n",
      "\u001b[32mSaved PCoAResults to: Jaccard_Fruits/jaccard_distance_matrix_PcoA.qza\u001b[0m\n",
      "\u001b[32mSaved Visualization to: Jaccard_Fruits/jaccard_distance_matrix_PcoA.qzv\u001b[0m\n"
     ]
    }
   ],
   "source": [
    "! qiime diversity beta --i-table FeatureTable_Fruits.qza --p-metric jaccard --o-distance-matrix Jaccard_Fruits/jaccard_distance_matrix.qza\n",
    "! qiime diversity pcoa --i-distance-matrix Jaccard_Fruits/jaccard_distance_matrix.qza --o-pcoa Jaccard_Fruits/jaccard_distance_matrix_PcoA.qza\n",
    "! qiime emperor plot --i-pcoa Jaccard_Fruits/jaccard_distance_matrix_PcoA.qza --m-metadata-file MetaData_Superfood.tsv --o-visualization Jaccard_Fruits/jaccard_distance_matrix_PcoA.qzv"
   ]
  },
  {
   "cell_type": "code",
   "execution_count": 59,
   "metadata": {},
   "outputs": [
    {
     "data": {
      "text/html": [
       "<div><img onload=\"(function(div, url){\n",
       "if (typeof require !== 'undefined') {\n",
       "    var baseURL = require.toUrl('').split('/').slice(0, -2).join('/');\n",
       "} else {\n",
       "    var baseURL = JSON.parse(\n",
       "        document.getElementById('jupyter-config-data').innerHTML\n",
       "    ).baseUrl.slice(0, -1);\n",
       "}\n",
       "url = baseURL + url;\n",
       "fetch(url).then(function(res) {\n",
       "    if (res.status === 404) {\n",
       "        div.innerHTML = 'Install QIIME 2 Jupyter extension with:<br />' +\n",
       "                        '<code>jupyter serverextension enable --py qiime2' +\n",
       "                        ' --sys-prefix</code><br />then restart your server.' +\n",
       "                        '<br /><br />(Interactive output not available on ' +\n",
       "                        'static notebook viewer services like nbviewer.)';\n",
       "    } else if (res.status === 409) {\n",
       "        div.innerHTML = 'Visualization no longer in scope. Re-run this cell' +\n",
       "                        ' to see the visualization.';\n",
       "    } else if (res.ok) {\n",
       "        url = res.url;\n",
       "        div.innerHTML = '<iframe src=\\'' + url + '\\' style=\\'' +\n",
       "                        'width: 100%; height: 700px; border: 0;\\'>' +\n",
       "                        '</iframe><hr />Open in a: <a href=\\'' + url + '\\'' +\n",
       "                        ' target=\\'_blank\\'>new window</a>'\n",
       "    } else {\n",
       "        div.innerHTML = 'Something has gone wrong. Check notebook server for' +\n",
       "                        ' errors.';\n",
       "    }\n",
       "});\n",
       "})(this.parentElement, '/qiime2/redirect?location=/var/folders/k7/zs6jm5h95875g74l66xfxq6m0000gn/T/qiime2-archive-ty7ck5jk')\" src=\"data:image/gif;base64,R0lGODlhAQABAIAAAP///wAAACH5BAEAAAAALAAAAAABAAEAAAICRAEAOw==\" /></div>"
      ],
      "text/plain": [
       "<visualization: Visualization uuid: 26961c03-166a-4cb4-b9f7-461c6b02f370>"
      ]
     },
     "execution_count": 59,
     "metadata": {},
     "output_type": "execute_result"
    }
   ],
   "source": [
    "q2.Visualization.load('Jaccard_Fruits/jaccard_distance_matrix_PcoA.qzv')"
   ]
  },
  {
   "cell_type": "markdown",
   "metadata": {},
   "source": [
    "## Amaryllidaceae"
   ]
  },
  {
   "cell_type": "code",
   "execution_count": 31,
   "metadata": {},
   "outputs": [],
   "source": [
    "!mkdir Jaccard_Amaryllidaceae"
   ]
  },
  {
   "cell_type": "code",
   "execution_count": 32,
   "metadata": {},
   "outputs": [
    {
     "name": "stdout",
     "output_type": "stream",
     "text": [
      "\u001b[32mSaved DistanceMatrix to: Jaccard_Amaryllidaceae/jaccard_distance_matrix.qza\u001b[0m\n",
      "\u001b[32mSaved PCoAResults to: Jaccard_Amaryllidaceae/jaccard_distance_matrix_PcoA.qza\u001b[0m\n",
      "\u001b[32mSaved Visualization to: Jaccard_Amaryllidaceae/jaccard_distance_matrix_PcoA.qzv\u001b[0m\n"
     ]
    }
   ],
   "source": [
    "! qiime diversity beta --i-table FeatureTable_Amaryllidaceae.qza --p-metric jaccard --o-distance-matrix Jaccard_Amaryllidaceae/jaccard_distance_matrix.qza\n",
    "! qiime diversity pcoa --i-distance-matrix Jaccard_Amaryllidaceae/jaccard_distance_matrix.qza --o-pcoa Jaccard_Amaryllidaceae/jaccard_distance_matrix_PcoA.qza\n",
    "! qiime emperor plot --i-pcoa Jaccard_Amaryllidaceae/jaccard_distance_matrix_PcoA.qza --m-metadata-file MetaData_Superfood.tsv --o-visualization Jaccard_Amaryllidaceae/jaccard_distance_matrix_PcoA.qzv"
   ]
  },
  {
   "cell_type": "code",
   "execution_count": 33,
   "metadata": {},
   "outputs": [
    {
     "data": {
      "text/html": [
       "<div><img onload=\"(function(div, url){\n",
       "if (typeof require !== 'undefined') {\n",
       "    var baseURL = require.toUrl('').split('/').slice(0, -2).join('/');\n",
       "} else {\n",
       "    var baseURL = JSON.parse(\n",
       "        document.getElementById('jupyter-config-data').innerHTML\n",
       "    ).baseUrl.slice(0, -1);\n",
       "}\n",
       "url = baseURL + url;\n",
       "fetch(url).then(function(res) {\n",
       "    if (res.status === 404) {\n",
       "        div.innerHTML = 'Install QIIME 2 Jupyter extension with:<br />' +\n",
       "                        '<code>jupyter serverextension enable --py qiime2' +\n",
       "                        ' --sys-prefix</code><br />then restart your server.' +\n",
       "                        '<br /><br />(Interactive output not available on ' +\n",
       "                        'static notebook viewer services like nbviewer.)';\n",
       "    } else if (res.status === 409) {\n",
       "        div.innerHTML = 'Visualization no longer in scope. Re-run this cell' +\n",
       "                        ' to see the visualization.';\n",
       "    } else if (res.ok) {\n",
       "        url = res.url;\n",
       "        div.innerHTML = '<iframe src=\\'' + url + '\\' style=\\'' +\n",
       "                        'width: 100%; height: 700px; border: 0;\\'>' +\n",
       "                        '</iframe><hr />Open in a: <a href=\\'' + url + '\\'' +\n",
       "                        ' target=\\'_blank\\'>new window</a>'\n",
       "    } else {\n",
       "        div.innerHTML = 'Something has gone wrong. Check notebook server for' +\n",
       "                        ' errors.';\n",
       "    }\n",
       "});\n",
       "})(this.parentElement, '/qiime2/redirect?location=/var/folders/k7/zs6jm5h95875g74l66xfxq6m0000gn/T/qiime2-archive-k82m5sdo')\" src=\"data:image/gif;base64,R0lGODlhAQABAIAAAP///wAAACH5BAEAAAAALAAAAAABAAEAAAICRAEAOw==\" /></div>"
      ],
      "text/plain": [
       "<visualization: Visualization uuid: 75d5fab8-9c14-41ab-ab1e-471fa509649a>"
      ]
     },
     "execution_count": 33,
     "metadata": {},
     "output_type": "execute_result"
    }
   ],
   "source": [
    "q2.Visualization.load('Jaccard_Amaryllidaceae/jaccard_distance_matrix_PcoA.qzv')"
   ]
  },
  {
   "cell_type": "markdown",
   "metadata": {},
   "source": [
    "## Amaranthaceae"
   ]
  },
  {
   "cell_type": "code",
   "execution_count": 35,
   "metadata": {},
   "outputs": [],
   "source": [
    "!mkdir Jaccard_Amaranthaceae"
   ]
  },
  {
   "cell_type": "code",
   "execution_count": 36,
   "metadata": {},
   "outputs": [
    {
     "name": "stdout",
     "output_type": "stream",
     "text": [
      "\u001b[32mSaved DistanceMatrix to: Jaccard_Amaranthaceae/jaccard_distance_matrix.qza\u001b[0m\n",
      "\u001b[32mSaved PCoAResults to: Jaccard_Amaranthaceae/jaccard_distance_matrix_PcoA.qza\u001b[0m\n",
      "\u001b[32mSaved Visualization to: Jaccard_Amaranthaceae/jaccard_distance_matrix_PcoA.qzv\u001b[0m\n"
     ]
    }
   ],
   "source": [
    "! qiime diversity beta --i-table FeatureTable_Amaranthaceae.qza --p-metric jaccard --o-distance-matrix Jaccard_Amaranthaceae/jaccard_distance_matrix.qza\n",
    "! qiime diversity pcoa --i-distance-matrix Jaccard_Amaranthaceae/jaccard_distance_matrix.qza --o-pcoa Jaccard_Amaranthaceae/jaccard_distance_matrix_PcoA.qza\n",
    "! qiime emperor plot --i-pcoa Jaccard_Amaranthaceae/jaccard_distance_matrix_PcoA.qza --m-metadata-file MetaData_Superfood.tsv --o-visualization Jaccard_Amaranthaceae/jaccard_distance_matrix_PcoA.qzv"
   ]
  },
  {
   "cell_type": "code",
   "execution_count": 37,
   "metadata": {},
   "outputs": [
    {
     "data": {
      "text/html": [
       "<div><img onload=\"(function(div, url){\n",
       "if (typeof require !== 'undefined') {\n",
       "    var baseURL = require.toUrl('').split('/').slice(0, -2).join('/');\n",
       "} else {\n",
       "    var baseURL = JSON.parse(\n",
       "        document.getElementById('jupyter-config-data').innerHTML\n",
       "    ).baseUrl.slice(0, -1);\n",
       "}\n",
       "url = baseURL + url;\n",
       "fetch(url).then(function(res) {\n",
       "    if (res.status === 404) {\n",
       "        div.innerHTML = 'Install QIIME 2 Jupyter extension with:<br />' +\n",
       "                        '<code>jupyter serverextension enable --py qiime2' +\n",
       "                        ' --sys-prefix</code><br />then restart your server.' +\n",
       "                        '<br /><br />(Interactive output not available on ' +\n",
       "                        'static notebook viewer services like nbviewer.)';\n",
       "    } else if (res.status === 409) {\n",
       "        div.innerHTML = 'Visualization no longer in scope. Re-run this cell' +\n",
       "                        ' to see the visualization.';\n",
       "    } else if (res.ok) {\n",
       "        url = res.url;\n",
       "        div.innerHTML = '<iframe src=\\'' + url + '\\' style=\\'' +\n",
       "                        'width: 100%; height: 700px; border: 0;\\'>' +\n",
       "                        '</iframe><hr />Open in a: <a href=\\'' + url + '\\'' +\n",
       "                        ' target=\\'_blank\\'>new window</a>'\n",
       "    } else {\n",
       "        div.innerHTML = 'Something has gone wrong. Check notebook server for' +\n",
       "                        ' errors.';\n",
       "    }\n",
       "});\n",
       "})(this.parentElement, '/qiime2/redirect?location=/var/folders/k7/zs6jm5h95875g74l66xfxq6m0000gn/T/qiime2-archive-6x2bovir')\" src=\"data:image/gif;base64,R0lGODlhAQABAIAAAP///wAAACH5BAEAAAAALAAAAAABAAEAAAICRAEAOw==\" /></div>"
      ],
      "text/plain": [
       "<visualization: Visualization uuid: 5190ce33-837d-4768-9ea9-b1a5711409c4>"
      ]
     },
     "execution_count": 37,
     "metadata": {},
     "output_type": "execute_result"
    }
   ],
   "source": [
    "q2.Visualization.load('Jaccard_Amaranthaceae/jaccard_distance_matrix_PcoA.qzv')"
   ]
  },
  {
   "cell_type": "markdown",
   "metadata": {},
   "source": [
    "## Lamiaceae"
   ]
  },
  {
   "cell_type": "code",
   "execution_count": 38,
   "metadata": {},
   "outputs": [],
   "source": [
    "!mkdir Jaccard_Lamiaceae"
   ]
  },
  {
   "cell_type": "code",
   "execution_count": 39,
   "metadata": {},
   "outputs": [
    {
     "name": "stdout",
     "output_type": "stream",
     "text": [
      "\u001b[32mSaved DistanceMatrix to: Jaccard_Lamiaceae/jaccard_distance_matrix.qza\u001b[0m\n",
      "\u001b[32mSaved PCoAResults to: Jaccard_Lamiaceae/jaccard_distance_matrix_PcoA.qza\u001b[0m\n",
      "\u001b[32mSaved Visualization to: Jaccard_Lamiaceae/jaccard_distance_matrix_PcoA.qzv\u001b[0m\n"
     ]
    }
   ],
   "source": [
    "! qiime diversity beta --i-table FeatureTable_Lamiaceae.qza --p-metric jaccard --o-distance-matrix Jaccard_Lamiaceae/jaccard_distance_matrix.qza\n",
    "! qiime diversity pcoa --i-distance-matrix Jaccard_Lamiaceae/jaccard_distance_matrix.qza --o-pcoa Jaccard_Lamiaceae/jaccard_distance_matrix_PcoA.qza\n",
    "! qiime emperor plot --i-pcoa Jaccard_Lamiaceae/jaccard_distance_matrix_PcoA.qza --m-metadata-file MetaData_Superfood.tsv --o-visualization Jaccard_Lamiaceae/jaccard_distance_matrix_PcoA.qzv"
   ]
  },
  {
   "cell_type": "code",
   "execution_count": 40,
   "metadata": {},
   "outputs": [
    {
     "data": {
      "text/html": [
       "<div><img onload=\"(function(div, url){\n",
       "if (typeof require !== 'undefined') {\n",
       "    var baseURL = require.toUrl('').split('/').slice(0, -2).join('/');\n",
       "} else {\n",
       "    var baseURL = JSON.parse(\n",
       "        document.getElementById('jupyter-config-data').innerHTML\n",
       "    ).baseUrl.slice(0, -1);\n",
       "}\n",
       "url = baseURL + url;\n",
       "fetch(url).then(function(res) {\n",
       "    if (res.status === 404) {\n",
       "        div.innerHTML = 'Install QIIME 2 Jupyter extension with:<br />' +\n",
       "                        '<code>jupyter serverextension enable --py qiime2' +\n",
       "                        ' --sys-prefix</code><br />then restart your server.' +\n",
       "                        '<br /><br />(Interactive output not available on ' +\n",
       "                        'static notebook viewer services like nbviewer.)';\n",
       "    } else if (res.status === 409) {\n",
       "        div.innerHTML = 'Visualization no longer in scope. Re-run this cell' +\n",
       "                        ' to see the visualization.';\n",
       "    } else if (res.ok) {\n",
       "        url = res.url;\n",
       "        div.innerHTML = '<iframe src=\\'' + url + '\\' style=\\'' +\n",
       "                        'width: 100%; height: 700px; border: 0;\\'>' +\n",
       "                        '</iframe><hr />Open in a: <a href=\\'' + url + '\\'' +\n",
       "                        ' target=\\'_blank\\'>new window</a>'\n",
       "    } else {\n",
       "        div.innerHTML = 'Something has gone wrong. Check notebook server for' +\n",
       "                        ' errors.';\n",
       "    }\n",
       "});\n",
       "})(this.parentElement, '/qiime2/redirect?location=/var/folders/k7/zs6jm5h95875g74l66xfxq6m0000gn/T/qiime2-archive-qgq6s13r')\" src=\"data:image/gif;base64,R0lGODlhAQABAIAAAP///wAAACH5BAEAAAAALAAAAAABAAEAAAICRAEAOw==\" /></div>"
      ],
      "text/plain": [
       "<visualization: Visualization uuid: 9f7fc9cd-a046-4464-86a5-5b49c94c8b43>"
      ]
     },
     "execution_count": 40,
     "metadata": {},
     "output_type": "execute_result"
    }
   ],
   "source": [
    "q2.Visualization.load('Jaccard_Lamiaceae/jaccard_distance_matrix_PcoA.qzv')"
   ]
  },
  {
   "cell_type": "markdown",
   "metadata": {},
   "source": [
    "## Rosaceae"
   ]
  },
  {
   "cell_type": "code",
   "execution_count": 42,
   "metadata": {},
   "outputs": [],
   "source": [
    "!mkdir Jaccard_Rosaceae"
   ]
  },
  {
   "cell_type": "code",
   "execution_count": 43,
   "metadata": {},
   "outputs": [
    {
     "name": "stdout",
     "output_type": "stream",
     "text": [
      "\u001b[32mSaved DistanceMatrix to: Jaccard_Rosaceae/jaccard_distance_matrix.qza\u001b[0m\n",
      "\u001b[32mSaved PCoAResults to: Jaccard_Rosaceae/jaccard_distance_matrix_PcoA.qza\u001b[0m\n",
      "\u001b[32mSaved Visualization to: Jaccard_Rosaceae/jaccard_distance_matrix_PcoA.qzv\u001b[0m\n"
     ]
    }
   ],
   "source": [
    "! qiime diversity beta --i-table FeatureTable_Rosaceae.qza --p-metric jaccard --o-distance-matrix Jaccard_Rosaceae/jaccard_distance_matrix.qza\n",
    "! qiime diversity pcoa --i-distance-matrix Jaccard_Rosaceae/jaccard_distance_matrix.qza --o-pcoa Jaccard_Rosaceae/jaccard_distance_matrix_PcoA.qza\n",
    "! qiime emperor plot --i-pcoa Jaccard_Rosaceae/jaccard_distance_matrix_PcoA.qza --m-metadata-file MetaData_Superfood.tsv --o-visualization Jaccard_Rosaceae/jaccard_distance_matrix_PcoA.qzv"
   ]
  },
  {
   "cell_type": "code",
   "execution_count": 44,
   "metadata": {},
   "outputs": [
    {
     "data": {
      "text/html": [
       "<div><img onload=\"(function(div, url){\n",
       "if (typeof require !== 'undefined') {\n",
       "    var baseURL = require.toUrl('').split('/').slice(0, -2).join('/');\n",
       "} else {\n",
       "    var baseURL = JSON.parse(\n",
       "        document.getElementById('jupyter-config-data').innerHTML\n",
       "    ).baseUrl.slice(0, -1);\n",
       "}\n",
       "url = baseURL + url;\n",
       "fetch(url).then(function(res) {\n",
       "    if (res.status === 404) {\n",
       "        div.innerHTML = 'Install QIIME 2 Jupyter extension with:<br />' +\n",
       "                        '<code>jupyter serverextension enable --py qiime2' +\n",
       "                        ' --sys-prefix</code><br />then restart your server.' +\n",
       "                        '<br /><br />(Interactive output not available on ' +\n",
       "                        'static notebook viewer services like nbviewer.)';\n",
       "    } else if (res.status === 409) {\n",
       "        div.innerHTML = 'Visualization no longer in scope. Re-run this cell' +\n",
       "                        ' to see the visualization.';\n",
       "    } else if (res.ok) {\n",
       "        url = res.url;\n",
       "        div.innerHTML = '<iframe src=\\'' + url + '\\' style=\\'' +\n",
       "                        'width: 100%; height: 700px; border: 0;\\'>' +\n",
       "                        '</iframe><hr />Open in a: <a href=\\'' + url + '\\'' +\n",
       "                        ' target=\\'_blank\\'>new window</a>'\n",
       "    } else {\n",
       "        div.innerHTML = 'Something has gone wrong. Check notebook server for' +\n",
       "                        ' errors.';\n",
       "    }\n",
       "});\n",
       "})(this.parentElement, '/qiime2/redirect?location=/var/folders/k7/zs6jm5h95875g74l66xfxq6m0000gn/T/qiime2-archive-i7_74xrj')\" src=\"data:image/gif;base64,R0lGODlhAQABAIAAAP///wAAACH5BAEAAAAALAAAAAABAAEAAAICRAEAOw==\" /></div>"
      ],
      "text/plain": [
       "<visualization: Visualization uuid: ded26f6b-a4ab-4ae0-b0dc-375a441a9bd1>"
      ]
     },
     "execution_count": 44,
     "metadata": {},
     "output_type": "execute_result"
    }
   ],
   "source": [
    "q2.Visualization.load('Jaccard_Rosaceae/jaccard_distance_matrix_PcoA.qzv')"
   ]
  }
 ],
 "metadata": {
  "kernelspec": {
   "display_name": "Python 3",
   "language": "python",
   "name": "python3"
  },
  "language_info": {
   "codemirror_mode": {
    "name": "ipython",
    "version": 3
   },
   "file_extension": ".py",
   "mimetype": "text/x-python",
   "name": "python",
   "nbconvert_exporter": "python",
   "pygments_lexer": "ipython3",
   "version": "3.6.7"
  }
 },
 "nbformat": 4,
 "nbformat_minor": 2
}

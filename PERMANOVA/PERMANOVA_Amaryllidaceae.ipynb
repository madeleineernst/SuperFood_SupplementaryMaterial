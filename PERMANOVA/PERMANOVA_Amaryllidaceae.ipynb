{
 "cells": [
  {
   "cell_type": "markdown",
   "metadata": {},
   "source": [
    "## Calculate PERMANOVA Adonis R2"
   ]
  },
  {
   "cell_type": "markdown",
   "metadata": {},
   "source": [
    "### All"
   ]
  },
  {
   "cell_type": "code",
   "execution_count": 1,
   "metadata": {},
   "outputs": [],
   "source": [
    "system('unzip -d Jaccard_Amaryllidaceae/ Jaccard_Amaryllidaceae/jaccard_distance_matrix.qza')"
   ]
  },
  {
   "cell_type": "markdown",
   "metadata": {},
   "source": [
    "load libraries"
   ]
  },
  {
   "cell_type": "code",
   "execution_count": 2,
   "metadata": {},
   "outputs": [
    {
     "name": "stderr",
     "output_type": "stream",
     "text": [
      "Loading required package: permute\n",
      "\n",
      "Loading required package: lattice\n",
      "\n",
      "This is vegan 2.5-6\n",
      "\n"
     ]
    }
   ],
   "source": [
    "library(vegan)\n",
    "library(ggplot2)"
   ]
  },
  {
   "cell_type": "markdown",
   "metadata": {},
   "source": [
    "load distance matrices"
   ]
  },
  {
   "cell_type": "code",
   "execution_count": 3,
   "metadata": {},
   "outputs": [],
   "source": [
    "dis_jaccard <- read.table(paste(list.dirs(path = \"Jaccard_Amaryllidaceae/\")[3],list.files(list.dirs(path = \"Jaccard_Amaryllidaceae/\")[3]),sep=\"/\"),sep = \"\\t\",header=T, row.names = 1)"
   ]
  },
  {
   "cell_type": "markdown",
   "metadata": {},
   "source": [
    "load metadata"
   ]
  },
  {
   "cell_type": "code",
   "execution_count": 4,
   "metadata": {},
   "outputs": [],
   "source": [
    "md <- read.csv('MetaData_Superfood.tsv', sep = '\\t', stringsAsFactors = F)"
   ]
  },
  {
   "cell_type": "code",
   "execution_count": 5,
   "metadata": {},
   "outputs": [],
   "source": [
    "distances <- list(dis_jaccard)\n",
    "names(distances) <- c(\"jaccard\")\n",
    "\n",
    "# bring all rows and columns of distance matrices in same order\n",
    "for (i in 1:length(distances)){\n",
    "  distances[[i]] <- distances[[i]][match(rownames(distances[[1]]),rownames(distances[[i]])),]\n",
    "  distances[[i]] <- distances[[i]][,match(colnames(distances[[1]]),colnames(distances[[i]]))]\n",
    "}"
   ]
  },
  {
   "cell_type": "code",
   "execution_count": 6,
   "metadata": {},
   "outputs": [
    {
     "data": {
      "text/html": [
       "TRUE"
      ],
      "text/latex": [
       "TRUE"
      ],
      "text/markdown": [
       "TRUE"
      ],
      "text/plain": [
       "[1] TRUE"
      ]
     },
     "metadata": {},
     "output_type": "display_data"
    }
   ],
   "source": [
    "all(sapply(rownames(distances), FUN = identical, dis_bray)) # should be TRUE"
   ]
  },
  {
   "cell_type": "code",
   "execution_count": 7,
   "metadata": {},
   "outputs": [
    {
     "data": {
      "text/html": [
       "<table>\n",
       "<caption>A data.frame: 6 × 19</caption>\n",
       "<thead>\n",
       "\t<tr><th scope=col>X.SampleID</th><th scope=col>BarcodeSequence</th><th scope=col>LinkerPrimerSequence</th><th scope=col>ATTRIBUTE_sample_type_group5</th><th scope=col>ATTRIBUTE_superfood</th><th scope=col>ATTRIBUTE_sample_type_group4</th><th scope=col>organic</th><th scope=col>ATTRIBUTE_family_genus</th><th scope=col>gluten_free</th><th scope=col>filename</th><th scope=col>packaging</th><th scope=col>presample_ethanol_weight</th><th scope=col>botanical_genus</th><th scope=col>ATTRIBUTE_botanical_anatomy</th><th scope=col>final_ethanol_weight</th><th scope=col>gmo</th><th scope=col>sample_in_tube_ethanol_weight</th><th scope=col>sample_type_group6</th><th scope=col>ATTRIBUTE_GNPSDefaultGroup</th></tr>\n",
       "\t<tr><th scope=col>&lt;chr&gt;</th><th scope=col>&lt;chr&gt;</th><th scope=col>&lt;chr&gt;</th><th scope=col>&lt;chr&gt;</th><th scope=col>&lt;chr&gt;</th><th scope=col>&lt;chr&gt;</th><th scope=col>&lt;chr&gt;</th><th scope=col>&lt;chr&gt;</th><th scope=col>&lt;chr&gt;</th><th scope=col>&lt;chr&gt;</th><th scope=col>&lt;chr&gt;</th><th scope=col>&lt;chr&gt;</th><th scope=col>&lt;chr&gt;</th><th scope=col>&lt;chr&gt;</th><th scope=col>&lt;chr&gt;</th><th scope=col>&lt;chr&gt;</th><th scope=col>&lt;chr&gt;</th><th scope=col>&lt;chr&gt;</th><th scope=col>&lt;chr&gt;</th></tr>\n",
       "</thead>\n",
       "<tbody>\n",
       "\t<tr><td>72475_1x_BC9_01_17418</td><td>GATACA</td><td>GATACA</td><td>garlic </td><td>superfood    </td><td>vegetable </td><td>yes</td><td>Amaryllidaceae</td><td>no </td><td>72475_1x_BC9_01_17418.mzXML</td><td>none    </td><td>1.9269</td><td>allium  </td><td>stem </td><td>2.0369</td><td>no</td><td>0.11  </td><td>garlic              </td><td>Not Mapped</td></tr>\n",
       "\t<tr><td>72497_1x_BD7_01_17434</td><td>GATACA</td><td>GATACA</td><td>melon  </td><td>non_superfood</td><td>pepo      </td><td>no </td><td>Cucurbitaceae </td><td>yes</td><td>72497_1x_BD7_01_17434.mzXML</td><td>none    </td><td>1.9243</td><td>Cucumis </td><td>fruit</td><td>2.1797</td><td>no</td><td>0.2554</td><td>galia               </td><td>G1        </td></tr>\n",
       "\t<tr><td>72500_1x_BG3_01_17471</td><td>GATACA</td><td>GATACA</td><td>apple  </td><td>non_superfood</td><td>pome      </td><td>yes</td><td>Rosaceae      </td><td>yes</td><td>72500_1x_BG3_01_17471.mzXML</td><td>glass   </td><td>1.95  </td><td>Malus   </td><td>fruit</td><td>2.3257</td><td>no</td><td>0.3757</td><td>apple               </td><td>G1        </td></tr>\n",
       "\t<tr><td>72504_1x_BH8_01_17502</td><td>GATACA</td><td>GATACA</td><td>fig    </td><td>non_superfood</td><td>multifruit</td><td>yes</td><td>Moraceae      </td><td>yes</td><td>72504_1x_BH8_01_17502.mzXML</td><td>plastic </td><td>1.9545</td><td>ficus   </td><td>fruit</td><td>2.1733</td><td>no</td><td>0.2188</td><td>turkish fig         </td><td>G1        </td></tr>\n",
       "\t<tr><td>72537_1x_BG5_01_17486</td><td>GATACA</td><td>GATACA</td><td>tomato </td><td>non_superfood</td><td>berry     </td><td>yes</td><td>Solanaceae    </td><td>no </td><td>72537_1x_BG5_01_17486.mzXML</td><td>plastic </td><td>1.9385</td><td>Solanum </td><td>fruit</td><td>2.1044</td><td>no</td><td>0.1659</td><td>orange cherry tomato</td><td>Not Mapped</td></tr>\n",
       "\t<tr><td>72538_1x_BB6_01_17402</td><td>GATACA</td><td>GATACA</td><td>cabbage</td><td>non_superfood</td><td>vegetable </td><td>no </td><td>Brassicaceae  </td><td>yes</td><td>72538_1x_BB6_01_17402.mzXML</td><td>none    </td><td>1.9421</td><td>brassica</td><td>leaf </td><td>2.0412</td><td>no</td><td>0.0991</td><td>napa cabbage        </td><td>G1        </td></tr>\n",
       "</tbody>\n",
       "</table>\n"
      ],
      "text/latex": [
       "A data.frame: 6 × 19\n",
       "\\begin{tabular}{r|lllllllllllllllllll}\n",
       " X.SampleID & BarcodeSequence & LinkerPrimerSequence & ATTRIBUTE\\_sample\\_type\\_group5 & ATTRIBUTE\\_superfood & ATTRIBUTE\\_sample\\_type\\_group4 & organic & ATTRIBUTE\\_family\\_genus & gluten\\_free & filename & packaging & presample\\_ethanol\\_weight & botanical\\_genus & ATTRIBUTE\\_botanical\\_anatomy & final\\_ethanol\\_weight & gmo & sample\\_in\\_tube\\_ethanol\\_weight & sample\\_type\\_group6 & ATTRIBUTE\\_GNPSDefaultGroup\\\\\n",
       " <chr> & <chr> & <chr> & <chr> & <chr> & <chr> & <chr> & <chr> & <chr> & <chr> & <chr> & <chr> & <chr> & <chr> & <chr> & <chr> & <chr> & <chr> & <chr>\\\\\n",
       "\\hline\n",
       "\t 72475\\_1x\\_BC9\\_01\\_17418 & GATACA & GATACA & garlic  & superfood     & vegetable  & yes & Amaryllidaceae & no  & 72475\\_1x\\_BC9\\_01\\_17418.mzXML & none     & 1.9269 & allium   & stem  & 2.0369 & no & 0.11   & garlic               & Not Mapped\\\\\n",
       "\t 72497\\_1x\\_BD7\\_01\\_17434 & GATACA & GATACA & melon   & non\\_superfood & pepo       & no  & Cucurbitaceae  & yes & 72497\\_1x\\_BD7\\_01\\_17434.mzXML & none     & 1.9243 & Cucumis  & fruit & 2.1797 & no & 0.2554 & galia                & G1        \\\\\n",
       "\t 72500\\_1x\\_BG3\\_01\\_17471 & GATACA & GATACA & apple   & non\\_superfood & pome       & yes & Rosaceae       & yes & 72500\\_1x\\_BG3\\_01\\_17471.mzXML & glass    & 1.95   & Malus    & fruit & 2.3257 & no & 0.3757 & apple                & G1        \\\\\n",
       "\t 72504\\_1x\\_BH8\\_01\\_17502 & GATACA & GATACA & fig     & non\\_superfood & multifruit & yes & Moraceae       & yes & 72504\\_1x\\_BH8\\_01\\_17502.mzXML & plastic  & 1.9545 & ficus    & fruit & 2.1733 & no & 0.2188 & turkish fig          & G1        \\\\\n",
       "\t 72537\\_1x\\_BG5\\_01\\_17486 & GATACA & GATACA & tomato  & non\\_superfood & berry      & yes & Solanaceae     & no  & 72537\\_1x\\_BG5\\_01\\_17486.mzXML & plastic  & 1.9385 & Solanum  & fruit & 2.1044 & no & 0.1659 & orange cherry tomato & Not Mapped\\\\\n",
       "\t 72538\\_1x\\_BB6\\_01\\_17402 & GATACA & GATACA & cabbage & non\\_superfood & vegetable  & no  & Brassicaceae   & yes & 72538\\_1x\\_BB6\\_01\\_17402.mzXML & none     & 1.9421 & brassica & leaf  & 2.0412 & no & 0.0991 & napa cabbage         & G1        \\\\\n",
       "\\end{tabular}\n"
      ],
      "text/markdown": [
       "\n",
       "A data.frame: 6 × 19\n",
       "\n",
       "| X.SampleID &lt;chr&gt; | BarcodeSequence &lt;chr&gt; | LinkerPrimerSequence &lt;chr&gt; | ATTRIBUTE_sample_type_group5 &lt;chr&gt; | ATTRIBUTE_superfood &lt;chr&gt; | ATTRIBUTE_sample_type_group4 &lt;chr&gt; | organic &lt;chr&gt; | ATTRIBUTE_family_genus &lt;chr&gt; | gluten_free &lt;chr&gt; | filename &lt;chr&gt; | packaging &lt;chr&gt; | presample_ethanol_weight &lt;chr&gt; | botanical_genus &lt;chr&gt; | ATTRIBUTE_botanical_anatomy &lt;chr&gt; | final_ethanol_weight &lt;chr&gt; | gmo &lt;chr&gt; | sample_in_tube_ethanol_weight &lt;chr&gt; | sample_type_group6 &lt;chr&gt; | ATTRIBUTE_GNPSDefaultGroup &lt;chr&gt; |\n",
       "|---|---|---|---|---|---|---|---|---|---|---|---|---|---|---|---|---|---|---|\n",
       "| 72475_1x_BC9_01_17418 | GATACA | GATACA | garlic  | superfood     | vegetable  | yes | Amaryllidaceae | no  | 72475_1x_BC9_01_17418.mzXML | none     | 1.9269 | allium   | stem  | 2.0369 | no | 0.11   | garlic               | Not Mapped |\n",
       "| 72497_1x_BD7_01_17434 | GATACA | GATACA | melon   | non_superfood | pepo       | no  | Cucurbitaceae  | yes | 72497_1x_BD7_01_17434.mzXML | none     | 1.9243 | Cucumis  | fruit | 2.1797 | no | 0.2554 | galia                | G1         |\n",
       "| 72500_1x_BG3_01_17471 | GATACA | GATACA | apple   | non_superfood | pome       | yes | Rosaceae       | yes | 72500_1x_BG3_01_17471.mzXML | glass    | 1.95   | Malus    | fruit | 2.3257 | no | 0.3757 | apple                | G1         |\n",
       "| 72504_1x_BH8_01_17502 | GATACA | GATACA | fig     | non_superfood | multifruit | yes | Moraceae       | yes | 72504_1x_BH8_01_17502.mzXML | plastic  | 1.9545 | ficus    | fruit | 2.1733 | no | 0.2188 | turkish fig          | G1         |\n",
       "| 72537_1x_BG5_01_17486 | GATACA | GATACA | tomato  | non_superfood | berry      | yes | Solanaceae     | no  | 72537_1x_BG5_01_17486.mzXML | plastic  | 1.9385 | Solanum  | fruit | 2.1044 | no | 0.1659 | orange cherry tomato | Not Mapped |\n",
       "| 72538_1x_BB6_01_17402 | GATACA | GATACA | cabbage | non_superfood | vegetable  | no  | Brassicaceae   | yes | 72538_1x_BB6_01_17402.mzXML | none     | 1.9421 | brassica | leaf  | 2.0412 | no | 0.0991 | napa cabbage         | G1         |\n",
       "\n"
      ],
      "text/plain": [
       "  X.SampleID            BarcodeSequence LinkerPrimerSequence\n",
       "1 72475_1x_BC9_01_17418 GATACA          GATACA              \n",
       "2 72497_1x_BD7_01_17434 GATACA          GATACA              \n",
       "3 72500_1x_BG3_01_17471 GATACA          GATACA              \n",
       "4 72504_1x_BH8_01_17502 GATACA          GATACA              \n",
       "5 72537_1x_BG5_01_17486 GATACA          GATACA              \n",
       "6 72538_1x_BB6_01_17402 GATACA          GATACA              \n",
       "  ATTRIBUTE_sample_type_group5 ATTRIBUTE_superfood ATTRIBUTE_sample_type_group4\n",
       "1 garlic                       superfood           vegetable                   \n",
       "2 melon                        non_superfood       pepo                        \n",
       "3 apple                        non_superfood       pome                        \n",
       "4 fig                          non_superfood       multifruit                  \n",
       "5 tomato                       non_superfood       berry                       \n",
       "6 cabbage                      non_superfood       vegetable                   \n",
       "  organic ATTRIBUTE_family_genus gluten_free filename                   \n",
       "1 yes     Amaryllidaceae         no          72475_1x_BC9_01_17418.mzXML\n",
       "2 no      Cucurbitaceae          yes         72497_1x_BD7_01_17434.mzXML\n",
       "3 yes     Rosaceae               yes         72500_1x_BG3_01_17471.mzXML\n",
       "4 yes     Moraceae               yes         72504_1x_BH8_01_17502.mzXML\n",
       "5 yes     Solanaceae             no          72537_1x_BG5_01_17486.mzXML\n",
       "6 no      Brassicaceae           yes         72538_1x_BB6_01_17402.mzXML\n",
       "  packaging presample_ethanol_weight botanical_genus\n",
       "1 none      1.9269                   allium         \n",
       "2 none      1.9243                   Cucumis        \n",
       "3 glass     1.95                     Malus          \n",
       "4 plastic   1.9545                   ficus          \n",
       "5 plastic   1.9385                   Solanum        \n",
       "6 none      1.9421                   brassica       \n",
       "  ATTRIBUTE_botanical_anatomy final_ethanol_weight gmo\n",
       "1 stem                        2.0369               no \n",
       "2 fruit                       2.1797               no \n",
       "3 fruit                       2.3257               no \n",
       "4 fruit                       2.1733               no \n",
       "5 fruit                       2.1044               no \n",
       "6 leaf                        2.0412               no \n",
       "  sample_in_tube_ethanol_weight sample_type_group6   ATTRIBUTE_GNPSDefaultGroup\n",
       "1 0.11                          garlic               Not Mapped                \n",
       "2 0.2554                        galia                G1                        \n",
       "3 0.3757                        apple                G1                        \n",
       "4 0.2188                        turkish fig          G1                        \n",
       "5 0.1659                        orange cherry tomato Not Mapped                \n",
       "6 0.0991                        napa cabbage         G1                        "
      ]
     },
     "metadata": {},
     "output_type": "display_data"
    }
   ],
   "source": [
    "head(md)"
   ]
  },
  {
   "cell_type": "code",
   "execution_count": 8,
   "metadata": {},
   "outputs": [],
   "source": [
    "metadata <- md\n",
    "rownames(metadata) <- md$X.SampleID\n",
    "metadata <- metadata[which(rownames(metadata)%in%rownames(distances[[1]])),]\n",
    "metadata <- metadata[match(rownames(distances[[1]]),rownames(metadata)),]"
   ]
  },
  {
   "cell_type": "code",
   "execution_count": 9,
   "metadata": {},
   "outputs": [
    {
     "data": {
      "text/html": [
       "<ol class=list-inline>\n",
       "\t<li>16</li>\n",
       "\t<li>16</li>\n",
       "</ol>\n"
      ],
      "text/latex": [
       "\\begin{enumerate*}\n",
       "\\item 16\n",
       "\\item 16\n",
       "\\end{enumerate*}\n"
      ],
      "text/markdown": [
       "1. 16\n",
       "2. 16\n",
       "\n",
       "\n"
      ],
      "text/plain": [
       "[1] 16 16"
      ]
     },
     "metadata": {},
     "output_type": "display_data"
    },
    {
     "data": {
      "text/html": [
       "<ol class=list-inline>\n",
       "\t<li>16</li>\n",
       "\t<li>19</li>\n",
       "</ol>\n"
      ],
      "text/latex": [
       "\\begin{enumerate*}\n",
       "\\item 16\n",
       "\\item 19\n",
       "\\end{enumerate*}\n"
      ],
      "text/markdown": [
       "1. 16\n",
       "2. 19\n",
       "\n",
       "\n"
      ],
      "text/plain": [
       "[1] 16 19"
      ]
     },
     "metadata": {},
     "output_type": "display_data"
    }
   ],
   "source": [
    "dim(distances[[1]])\n",
    "dim(metadata)"
   ]
  },
  {
   "cell_type": "code",
   "execution_count": 11,
   "metadata": {},
   "outputs": [],
   "source": [
    "cats <- c('ATTRIBUTE_superfood')"
   ]
  },
  {
   "cell_type": "code",
   "execution_count": 12,
   "metadata": {},
   "outputs": [],
   "source": [
    "Rsq <- c()\n",
    "pval <- c()\n",
    "for (i in 1:length(cats)){\n",
    "  for (j in 1:length(distances)){\n",
    "    if (length(which(is.na(metadata[,colnames(metadata) == cats[i]]))) !=0){\n",
    "      red <- as.dist(distances[[j]][-which(is.na(metadata[,colnames(metadata) == cats[i]])),-which(is.na(metadata[,colnames(metadata) == cats[i]]))])\n",
    "      Rsq <- c(Rsq,adonis(red ~ na.omit(metadata[,colnames(metadata) == cats[i]]))$aov.tab$R2[1])\n",
    "      pval <- c(pval,adonis(red ~ na.omit(metadata[,colnames(metadata) == cats[i]]))$aov.tab$'Pr(>F)'[1])\n",
    "    } else {\n",
    "      Rsq <- c(Rsq,adonis(as.dist(distances[[j]]) ~ metadata[,colnames(metadata) == cats[i]])$aov.tab$R2[1])\n",
    "      pval <- c(pval,adonis(as.dist(distances[[j]]) ~ metadata[,colnames(metadata) == cats[i]])$aov.tab$'Pr(>F)'[1])\n",
    "    }\n",
    "  }\n",
    "}"
   ]
  },
  {
   "cell_type": "code",
   "execution_count": 13,
   "metadata": {},
   "outputs": [],
   "source": [
    "out <- matrix(0, length(cats)*length(distances),4)\n",
    "out[,1] <- rep(cats,each=length(distances))  \n",
    "out[,2] <- rep(names(distances),length(cats))\n",
    "out[,3] <- Rsq\n",
    "out[,4] <- pval\n",
    "\n",
    "colnames(out) <- c(\"metadata\",\"metric\",\"AdonisR2\",\"pvalue\")\n",
    "out <- as.data.frame(out)\n",
    "out$AdonisR2 <- as.numeric(as.character(out$AdonisR2))\n",
    "out$pvalue <- as.numeric(as.character(out$pvalue))\n",
    "\n",
    "# perform FDR correction within groups\n",
    "out$pvalue_corr <- out$pvalue\n",
    "for (i in 1:length(cats)){\n",
    "  out$pvalue_corr[which(out$metadata==cats[i])]  <- p.adjust(out$pvalue_corr[which(out$metadata==cats[i])],method = \"fdr\")\n",
    "}\n",
    "\n",
    "out$sig <- out$pvalue_corr\n",
    "out$sig[out$sig>0.05] <- \"p>0.05\"\n",
    "out$sig[out$sig<0.05] <- \"p<0.05\"\n",
    "out$sig <- as.factor(out$sig)"
   ]
  },
  {
   "cell_type": "code",
   "execution_count": 14,
   "metadata": {},
   "outputs": [
    {
     "data": {
      "image/png": "[encoded data removed]",
      "text/plain": [
       "plot without title"
      ]
     },
     "metadata": {
      "image/png": {
       "height": 420,
       "width": 420
      },
      "text/plain": {
       "height": 420,
       "width": 420
      }
     },
     "output_type": "display_data"
    }
   ],
   "source": [
    "ggplot(out, aes(AdonisR2, metadata)) +\n",
    "  geom_point(aes(color = metric, shape = sig)) #alpha = \"0.3\"s"
   ]
  },
  {
   "cell_type": "code",
   "execution_count": 15,
   "metadata": {},
   "outputs": [
    {
     "data": {
      "text/html": [
       "<strong>pdf:</strong> 2"
      ],
      "text/latex": [
       "\\textbf{pdf:} 2"
      ],
      "text/markdown": [
       "**pdf:** 2"
      ],
      "text/plain": [
       "pdf \n",
       "  2 "
      ]
     },
     "metadata": {},
     "output_type": "display_data"
    }
   ],
   "source": [
    "pdf(file=\"AdonisR2_Amaryllidaceae.pdf\", width=6, height=4)\n",
    "ggplot(out, aes(AdonisR2, metadata)) +\n",
    "  geom_point(aes(color = metric, shape = sig)) #alpha = \"0.3\"\n",
    "dev.off()"
   ]
  },
  {
   "cell_type": "code",
   "execution_count": 16,
   "metadata": {},
   "outputs": [],
   "source": [
    "write.table(out,'AdonisR2_Amaryllidaceae.txt',sep = '\\t', row.names = F, quote = F)"
   ]
  },
  {
   "cell_type": "code",
   "execution_count": 17,
   "metadata": {},
   "outputs": [
    {
     "data": {
      "text/html": [
       "<table>\n",
       "<caption>A data.frame: 1 × 6</caption>\n",
       "<thead>\n",
       "\t<tr><th scope=col>metadata</th><th scope=col>metric</th><th scope=col>AdonisR2</th><th scope=col>pvalue</th><th scope=col>pvalue_corr</th><th scope=col>sig</th></tr>\n",
       "\t<tr><th scope=col>&lt;fct&gt;</th><th scope=col>&lt;fct&gt;</th><th scope=col>&lt;dbl&gt;</th><th scope=col>&lt;dbl&gt;</th><th scope=col>&lt;dbl&gt;</th><th scope=col>&lt;fct&gt;</th></tr>\n",
       "</thead>\n",
       "<tbody>\n",
       "\t<tr><td>ATTRIBUTE_superfood</td><td>jaccard</td><td>0.1011611</td><td>0.01</td><td>0.01</td><td>p&lt;0.05</td></tr>\n",
       "</tbody>\n",
       "</table>\n"
      ],
      "text/latex": [
       "A data.frame: 1 × 6\n",
       "\\begin{tabular}{r|llllll}\n",
       " metadata & metric & AdonisR2 & pvalue & pvalue\\_corr & sig\\\\\n",
       " <fct> & <fct> & <dbl> & <dbl> & <dbl> & <fct>\\\\\n",
       "\\hline\n",
       "\t ATTRIBUTE\\_superfood & jaccard & 0.1011611 & 0.01 & 0.01 & p<0.05\\\\\n",
       "\\end{tabular}\n"
      ],
      "text/markdown": [
       "\n",
       "A data.frame: 1 × 6\n",
       "\n",
       "| metadata &lt;fct&gt; | metric &lt;fct&gt; | AdonisR2 &lt;dbl&gt; | pvalue &lt;dbl&gt; | pvalue_corr &lt;dbl&gt; | sig &lt;fct&gt; |\n",
       "|---|---|---|---|---|---|\n",
       "| ATTRIBUTE_superfood | jaccard | 0.1011611 | 0.01 | 0.01 | p&lt;0.05 |\n",
       "\n"
      ],
      "text/plain": [
       "  metadata            metric  AdonisR2  pvalue pvalue_corr sig   \n",
       "1 ATTRIBUTE_superfood jaccard 0.1011611 0.01   0.01        p<0.05"
      ]
     },
     "metadata": {},
     "output_type": "display_data"
    }
   ],
   "source": [
    "out"
   ]
  },
  {
   "cell_type": "code",
   "execution_count": null,
   "metadata": {},
   "outputs": [],
   "source": []
  }
 ],
 "metadata": {
  "kernelspec": {
   "display_name": "R",
   "language": "R",
   "name": "ir"
  },
  "language_info": {
   "codemirror_mode": "r",
   "file_extension": ".r",
   "mimetype": "text/x-r-source",
   "name": "R",
   "pygments_lexer": "r",
   "version": "3.6.1"
  }
 },
 "nbformat": 4,
 "nbformat_minor": 2
}
